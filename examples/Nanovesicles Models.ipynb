{
 "cells": [
  {
   "cell_type": "markdown",
   "id": "c194cd27",
   "metadata": {},
   "source": [
    "# Nanovesicles data anlaysis pipeline"
   ]
  },
  {
   "cell_type": "markdown",
   "id": "4c004567",
   "metadata": {},
   "source": [
    "Steps:\n",
    "- Process data on JPK software to get E, ind and h\n",
    "- Read data (QI 100x100 pxls) -> Optimize speed\n",
    "- Read .tsv with file results from JPK software\n",
    "- Apply otsu / manual threshold to ind matrix to obtain mask\n",
    "- Label masks and assign unique id to each vesicle\n",
    "- Perform morphological analysis of each region (Area, circularity, diameter)\n",
    "- Select regions based on morphological params\n",
    "- Create matrix of curve idx by applying mask: 0,1,2,3,4,5,6,7,8,9 -> 4,7\n",
    "- Compute curvature radius\n",
    "- Determine theter force\n",
    "- Apply 3 models\n",
    "- Save results"
   ]
  },
  {
   "cell_type": "raw",
   "id": "609874e8",
   "metadata": {},
   "source": [
    "Data structure\n",
    "\n",
    "Experiment folder\n",
    "    |_region folder\n",
    "        |_zoom region folder\n",
    "            |_height matrix (.txt)\n",
    "            |_ind matrix (.txt)\n",
    "            |_E matrix (.txt)\n",
    "            |_binary mask (.tif)\n",
    "            |_vesicle_id\n",
    "                |_zoom in mask (.tif)\n",
    "                |_model results (E, E1, E2, E3) (.txt)"
   ]
  },
  {
   "cell_type": "code",
   "execution_count": null,
   "id": "42b89370",
   "metadata": {},
   "outputs": [],
   "source": []
  }
 ],
 "metadata": {
  "kernelspec": {
   "display_name": "Python 3",
   "language": "python",
   "name": "python3"
  },
  "language_info": {
   "codemirror_mode": {
    "name": "ipython",
    "version": 3
   },
   "file_extension": ".py",
   "mimetype": "text/x-python",
   "name": "python",
   "nbconvert_exporter": "python",
   "pygments_lexer": "ipython3",
   "version": "3.8.8"
  }
 },
 "nbformat": 4,
 "nbformat_minor": 5
}
