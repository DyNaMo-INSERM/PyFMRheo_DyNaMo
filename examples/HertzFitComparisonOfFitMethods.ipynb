{
 "cells": [
  {
   "cell_type": "code",
   "execution_count": 1,
   "id": "72c5ba81-bbe2-49bb-bea2-4ec1cd595de6",
   "metadata": {
    "tags": []
   },
   "outputs": [],
   "source": [
    "%%capture\n",
    "# Setup: Install packages we will need in this notebook\n",
    "%pip uninstall pyfmrheo -y\n",
    "%pip install git+https://github.com/jlopezalo/PyFMRheo.git\n",
    "%pip install matplotlib"
   ]
  },
  {
   "cell_type": "code",
   "execution_count": 19,
   "id": "55049b8b-f751-4a84-b1b6-f7cd5608ccee",
   "metadata": {
    "tags": []
   },
   "outputs": [],
   "source": [
    "from pyfmreader import loadfile\n",
    "from pyfmrheo.routines.HertzFit import doHertzFit\n",
    "import matplotlib.pyplot as plt\n",
    "import numpy as np"
   ]
  },
  {
   "cell_type": "code",
   "execution_count": 20,
   "id": "bfec9c67-dcb0-4113-8de5-50983b06ec07",
   "metadata": {},
   "outputs": [],
   "source": [
    "# Define global parameters for plotting\n",
    "plt.rcParams[\"figure.figsize\"] = (10,5)"
   ]
  },
  {
   "cell_type": "code",
   "execution_count": 21,
   "id": "883458ca-3123-4f5d-9dad-b0fd1f9454e3",
   "metadata": {
    "tags": []
   },
   "outputs": [],
   "source": [
    "# Define path of file to process\n",
    "file_path = r\"../tests/testfiles/map-data-2022.10.29-12.27.34.564.jpk-force-map\""
   ]
  },
  {
   "cell_type": "code",
   "execution_count": 22,
   "id": "6654657a-3d65-48f6-b549-5540320ada38",
   "metadata": {
    "tags": []
   },
   "outputs": [
    {
     "name": "stdout",
     "output_type": "stream",
     "text": [
      "jpk-force-map\n"
     ]
    }
   ],
   "source": [
    "# Load File\n",
    "file = loadfile(file_path)\n",
    "filemetadata = file.filemetadata\n",
    "print(filemetadata['file_type'])"
   ]
  },
  {
   "cell_type": "code",
   "execution_count": 23,
   "id": "7fc84313-68cd-43c7-a9eb-7029e050a160",
   "metadata": {
    "tags": []
   },
   "outputs": [
    {
     "name": "stdout",
     "output_type": "stream",
     "text": [
      "Closed loop: false\n",
      "Height channel: measuredHeight\n",
      "Deflection Sens.: 1.4678505383171551e-08 m/V\n",
      "Spring Constant: 0.191 N/m\n"
     ]
    }
   ],
   "source": [
    "# Get some of the file metadata\n",
    "closed_loop = filemetadata['z_closed_loop']\n",
    "file_deflection_sensitivity = filemetadata['defl_sens_nmbyV'] #nm/V\n",
    "file_spring_constant = filemetadata['spring_const_Nbym'] #N/m\n",
    "height_channel = filemetadata['height_channel_key']\n",
    "\n",
    "deflection_sensitivity = file_deflection_sensitivity / 1e9 #m/V\n",
    "spring_constant = file_spring_constant\n",
    "\n",
    "print(f\"Closed loop: {closed_loop}\")\n",
    "print(f\"Height channel: {height_channel}\")\n",
    "print(f\"Deflection Sens.: {deflection_sensitivity} m/V\")\n",
    "print(f\"Spring Constant: {spring_constant} N/m\")"
   ]
  },
  {
   "cell_type": "code",
   "execution_count": 24,
   "id": "f8e1fba4-8ecf-489c-90bb-ad7c5991fe93",
   "metadata": {
    "tags": []
   },
   "outputs": [],
   "source": [
    "# Define parameters to perform the HertzFit\n",
    "maxnoncontact = 1e-6 #um\n",
    "pts_downsample = 300\n",
    "\n",
    "param_dict_leastsq = {\n",
    "    'height_channel': height_channel,   # Channel where to find the height data\n",
    "    'def_sens': deflection_sensitivity, # Deflection sensitivity in m/V\n",
    "    'k': spring_constant,               # Spring constant in N/m\n",
    "    'contact_model': 'paraboloid',      # Geometry of the indenter: paraboloidal, conical, pyramidal\n",
    "    'tip_param': 5e-06,                 # Tip raidus in meters or tip angle in degrees\n",
    "    'curve_seg': 'extend',              # Segement to perform the fit: extend or retract\n",
    "    'correct_tilt': False,              # Perform tilt correction\n",
    "    'tilt_min_offset': 1e-08,           # Maximum range where to perform the tilt correction in meters\n",
    "    'tilt_max_offset': 1e-06,           # Minimum range where to perform the tilt correction in meters\n",
    "    'poisson': 0.5,                     # Poisson's ratio\n",
    "    'poc_method': 'RoV',                # Method to find the contact point: RoV or RegulaFalsi\n",
    "    'poc_win': 4e-07,                   # Window size for the RoV method\n",
    "    'max_ind': 0.0,                     # Maximum indentation range for fit in meters\n",
    "    'min_ind': 0.0,                     # Minimum indentation range for fit in meters\n",
    "    'max_force': 0.0,                   # Maximum force range for fit in Newtons\n",
    "    'min_force': 0.0,                   # Minimum force range for fit in Newtons\n",
    "    'fit_range_type': 'full',           # Fit data range: full, indentation or force\n",
    "    'd0': 0.0,                          # Initial point of contact\n",
    "    'slope': 0.0,                       # Initial slope\n",
    "    'auto_init_E0': True,               # Estimate automatically the initial value of the Young's Modulus\n",
    "    'E0': 1000,                         # Initial Young's Modulus value\n",
    "    'f0': 0.0,                          # Initial F0 value\n",
    "    'contact_offset': maxnoncontact,    # Baseline offset for the Hertz Fit\n",
    "    'fit_line': False,                  # Fit line to the baseline\n",
    "    'downsample_flag': True,            # Downsample the signal for Hertz Fit\n",
    "    'pts_downsample': pts_downsample,   # Number of points to downsample\n",
    "    'offset_type':'percentage',         # How to correct for baseline offset: percentage or value\n",
    "    'max_offset':.3,                    # Max percentage to compute offset\n",
    "    'min_offset':0,                     # Min percentage to compute offset\n",
    "    'fit_method':'leastsq'\n",
    "    # 'fit_method':'trust-constr'\n",
    "}\n",
    "\n",
    "param_dict_trf = {\n",
    "    'height_channel': height_channel,   # Channel where to find the height data\n",
    "    'def_sens': deflection_sensitivity, # Deflection sensitivity in m/V\n",
    "    'k': spring_constant,               # Spring constant in N/m\n",
    "    'contact_model': 'paraboloid',      # Geometry of the indenter: paraboloidal, conical, pyramidal\n",
    "    'tip_param': 5e-06,                 # Tip raidus in meters or tip angle in degrees\n",
    "    'curve_seg': 'extend',              # Segement to perform the fit: extend or retract\n",
    "    'correct_tilt': False,              # Perform tilt correction\n",
    "    'tilt_min_offset': 1e-08,           # Maximum range where to perform the tilt correction in meters\n",
    "    'tilt_max_offset': 1e-06,           # Minimum range where to perform the tilt correction in meters\n",
    "    'poisson': 0.5,                     # Poisson's ratio\n",
    "    'poc_method': 'RoV',                # Method to find the contact point: RoV or RegulaFalsi\n",
    "    'poc_win': 4e-07,                   # Window size for the RoV method\n",
    "    'max_ind': 0.0,                     # Maximum indentation range for fit in meters\n",
    "    'min_ind': 0.0,                     # Minimum indentation range for fit in meters\n",
    "    'max_force': 0.0,                   # Maximum force range for fit in Newtons\n",
    "    'min_force': 0.0,                   # Minimum force range for fit in Newtons\n",
    "    'fit_range_type': 'full',           # Fit data range: full, indentation or force\n",
    "    'd0': 0.0,                          # Initial point of contact\n",
    "    'slope': 0.0,                       # Initial slope\n",
    "    'auto_init_E0': True,               # Estimate automatically the initial value of the Young's Modulus\n",
    "    'E0': 1000,                         # Initial Young's Modulus value\n",
    "    'f0': 0.0,                          # Initial F0 value\n",
    "    'contact_offset': maxnoncontact,    # Baseline offset for the Hertz Fit\n",
    "    'fit_line': False,                  # Fit line to the baseline\n",
    "    'downsample_flag': True,            # Downsample the signal for Hertz Fit\n",
    "    'pts_downsample': pts_downsample,   # Number of points to downsample\n",
    "    'offset_type':'percentage',         # How to correct for baseline offset: percentage or value\n",
    "    'max_offset':.3,                    # Max percentage to compute offset\n",
    "    'min_offset':0,                     # Min percentage to compute offset\n",
    "    'fit_method':'trust-constr'\n",
    "}"
   ]
  },
  {
   "cell_type": "code",
   "execution_count": 62,
   "id": "6d7bf61e-a157-4445-b881-9ab8c3d7d131",
   "metadata": {
    "tags": []
   },
   "outputs": [],
   "source": [
    "def getChiSqr(result, forceCurveSegment):\n",
    "    weight = 1.0 / np.std(forceCurveSegment.force)\n",
    "    residuals = result.get_residuals(forceCurveSegment.indentation, forceCurveSegment.force) * weight\n",
    "    return np.sum(residuals ** 2)"
   ]
  },
  {
   "cell_type": "code",
   "execution_count": 77,
   "id": "a4b6cbb9-7afb-422c-b3ca-67170f2520e7",
   "metadata": {
    "tags": []
   },
   "outputs": [
    {
     "name": "stderr",
     "output_type": "stream",
     "text": [
      "c:\\users\\javier.lopez\\appdata\\local\\programs\\python\\python37\\lib\\site-packages\\pyfmrheo\\models\\hertz.py:166: RuntimeWarning: divide by zero encountered in true_divide\n",
      "  a = (self.get_residuals(indentation, force, sample_height)**2/force)\n",
      "c:\\users\\javier.lopez\\appdata\\local\\programs\\python\\python37\\lib\\site-packages\\pyfmrheo\\models\\hertz.py:166: RuntimeWarning: invalid value encountered in true_divide\n",
      "  a = (self.get_residuals(indentation, force, sample_height)**2/force)\n"
     ]
    },
    {
     "name": "stdout",
     "output_type": "stream",
     "text": [
      "Processed curve 0\n",
      "Processed curve 1\n",
      "Processed curve 2\n",
      "Processed curve 3\n",
      "Processed curve 4\n",
      "Processed curve 5\n",
      "Processed curve 6\n",
      "Processed curve 7\n",
      "Processed curve 8\n",
      "Processed curve 9\n",
      "Processed curve 10\n",
      "Processed curve 11\n",
      "Processed curve 12\n",
      "Processed curve 13\n",
      "Processed curve 14\n",
      "Processed curve 15\n"
     ]
    }
   ],
   "source": [
    "# Select curve by index\n",
    "leastsq_results = []\n",
    "trf_results = []\n",
    "leastsq_results_r2 = []\n",
    "trf_results_r2 = []\n",
    "leastsq_results_chi2 = []\n",
    "trf_results_chi2 = []\n",
    "for curve_idx in range(file.filemetadata['num_x_pixels'] * file.filemetadata['num_y_pixels']):\n",
    "    force_curve = file.getcurve(curve_idx)\n",
    "    # Preprocess curve\n",
    "    force_curve.preprocess_force_curve(param_dict_leastsq['def_sens'], param_dict_leastsq['height_channel'])\n",
    "    # JPK files require the height signal to be shifted\n",
    "    if filemetadata['file_type'] in ('jpk-force', 'jpk-force-map', 'jpk-qi-data'):\n",
    "        force_curve.shift_height()\n",
    "    hertz_result_leastsqr = doHertzFit(force_curve, param_dict_leastsq)\n",
    "    forceCurveSegment = force_curve.extend_segments[0][1]\n",
    "    leastsq_results.append(hertz_result_leastsqr.E0)\n",
    "    leastsq_results_r2.append(hertz_result_leastsqr.Rsquared)\n",
    "    leastsq_results_chi2.append(getChiSqr(hertz_result_leastsqr, forceCurveSegment))\n",
    "    hertz_result_trf = doHertzFit(force_curve, param_dict_trf)\n",
    "    forceCurveSegment = force_curve.extend_segments[0][1]\n",
    "    trf_results.append(hertz_result_trf.E0)\n",
    "    trf_results_r2.append(hertz_result_trf.Rsquared)\n",
    "    trf_results_chi2.append(getChiSqr(hertz_result_trf, forceCurveSegment))\n",
    "    print(f\"Processed curve {curve_idx}\")"
   ]
  },
  {
   "cell_type": "code",
   "execution_count": 87,
   "id": "27267f4a-f0d1-4f0e-8a3e-0d884a6e508e",
   "metadata": {
    "tags": []
   },
   "outputs": [
    {
     "data": {
      "image/png": "[encoded data removed]",
      "text/plain": [
       "<Figure size 1000x500 with 1 Axes>"
      ]
     },
     "metadata": {},
     "output_type": "display_data"
    }
   ],
   "source": [
    "plt.boxplot([leastsq_results, trf_results], labels=[\"Leastsq\", \"TRF\"])\n",
    "plt.xlabel(\"Minimization algorithm\", fontsize=14)\n",
    "plt.ylabel(\"E0 [Pa]\", fontsize=14)\n",
    "plt.show()"
   ]
  },
  {
   "cell_type": "code",
   "execution_count": 89,
   "id": "69e61d76-516e-4e8c-8933-4fb3baa23a99",
   "metadata": {
    "tags": []
   },
   "outputs": [
    {
     "data": {
      "image/png": "[encoded data removed]",
      "text/plain": [
       "<Figure size 1000x500 with 1 Axes>"
      ]
     },
     "metadata": {},
     "output_type": "display_data"
    }
   ],
   "source": [
    "plt.boxplot([leastsq_results_r2, trf_results_r2], labels=[\"Leastsq\", \"TRF\"])\n",
    "plt.xlabel(\"Minimization algorithm\", fontsize=14)\n",
    "plt.ylabel(\"R2\", fontsize=14)\n",
    "plt.show()"
   ]
  },
  {
   "cell_type": "code",
   "execution_count": 88,
   "id": "1851f85f-b019-4153-9d73-3e127c5e1b2a",
   "metadata": {},
   "outputs": [
    {
     "name": "stdout",
     "output_type": "stream",
     "text": [
      "25.572552423401703\n",
      "39.34287631054326\n"
     ]
    },
    {
     "data": {
      "image/png": "[encoded data removed]",
      "text/plain": [
       "<Figure size 1000x500 with 1 Axes>"
      ]
     },
     "metadata": {},
     "output_type": "display_data"
    }
   ],
   "source": [
    "plt.boxplot([leastsq_results_chi2, trf_results_chi2], labels=[\"Leastsq\", \"TRF\"])\n",
    "print(np.median(leastsq_results_chi2))\n",
    "print(np.median(trf_results_chi2))\n",
    "plt.xlabel(\"Minimization algorithm\", fontsize=14)\n",
    "plt.ylabel(\"Chi2\", fontsize=14)\n",
    "plt.show()"
   ]
  },
  {
   "cell_type": "code",
   "execution_count": null,
   "id": "92cba95e-022a-4ed6-b278-6f77f9c4e503",
   "metadata": {},
   "outputs": [],
   "source": []
  },
  {
   "cell_type": "code",
   "execution_count": null,
   "id": "9b0a8026-518e-412d-8759-0b029d8587f5",
   "metadata": {},
   "outputs": [],
   "source": []
  },
  {
   "cell_type": "code",
   "execution_count": null,
   "id": "877b5d19-a4f0-47fa-98a8-c9db60538486",
   "metadata": {},
   "outputs": [],
   "source": []
  }
 ],
 "metadata": {
  "kernelspec": {
   "display_name": "Python 3 (ipykernel)",
   "language": "python",
   "name": "python3"
  },
  "language_info": {
   "codemirror_mode": {
    "name": "ipython",
    "version": 3
   },
   "file_extension": ".py",
   "mimetype": "text/x-python",
   "name": "python",
   "nbconvert_exporter": "python",
   "pygments_lexer": "ipython3",
   "version": "3.7.9"
  }
 },
 "nbformat": 4,
 "nbformat_minor": 5
}
