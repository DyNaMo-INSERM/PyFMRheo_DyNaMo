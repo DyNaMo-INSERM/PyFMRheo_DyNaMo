{
 "cells": [
  {
   "cell_type": "code",
   "execution_count": 1,
   "id": "0cdfff1b",
   "metadata": {},
   "outputs": [
    {
     "name": "stdout",
     "output_type": "stream",
     "text": [
      "Found existing installation: jpkreader 0.0.1\n",
      "Uninstalling jpkreader-0.0.1:\n",
      "  Successfully uninstalled jpkreader-0.0.1\n",
      "Note: you may need to restart the kernel to use updated packages.\n",
      "Collecting git+https://github.com/jlopezalo/pyjpkreader\n",
      "  Cloning https://github.com/jlopezalo/pyjpkreader to /private/var/folders/4k/ps22fmxj3gx6vls78t2p63wh0000gn/T/pip-req-build-ezuy7sfb\n",
      "  Running command git clone -q https://github.com/jlopezalo/pyjpkreader /private/var/folders/4k/ps22fmxj3gx6vls78t2p63wh0000gn/T/pip-req-build-ezuy7sfb\n",
      "Building wheels for collected packages: jpkreader\n",
      "  Building wheel for jpkreader (setup.py) ... \u001b[?25ldone\n",
      "\u001b[?25h  Created wheel for jpkreader: filename=jpkreader-0.0.1-py3-none-any.whl size=10194 sha256=471dc74ac3450928583d82bfeeb9ea669893341286a93c200b4278e0a61c5e2d\n",
      "  Stored in directory: /private/var/folders/4k/ps22fmxj3gx6vls78t2p63wh0000gn/T/pip-ephem-wheel-cache-g905so55/wheels/23/c0/8e/c378f28c65b0199f6092b6aa45e090c1ed6b4093f3adb03a15\n",
      "Successfully built jpkreader\n",
      "Installing collected packages: jpkreader\n",
      "Successfully installed jpkreader-0.0.1\n",
      "Note: you may need to restart the kernel to use updated packages.\n"
     ]
    }
   ],
   "source": [
    "# Install library for reading JPK File\n",
    "%pip uninstall jpkreader --yes\n",
    "%pip install git+https://github.com/jlopezalo/pyjpkreader"
   ]
  },
  {
   "cell_type": "code",
   "execution_count": 2,
   "id": "788d38ae",
   "metadata": {},
   "outputs": [
    {
     "name": "stdout",
     "output_type": "stream",
     "text": [
      "Found existing installation: pyafmrheo 0.0.1\n",
      "Uninstalling pyafmrheo-0.0.1:\n",
      "  Successfully uninstalled pyafmrheo-0.0.1\n",
      "Note: you may need to restart the kernel to use updated packages.\n",
      "Collecting git+https://github.com/jlopezalo/pyafmrheo.git\n",
      "  Cloning https://github.com/jlopezalo/pyafmrheo.git to /private/var/folders/4k/ps22fmxj3gx6vls78t2p63wh0000gn/T/pip-req-build-ejnel06s\n",
      "  Running command git clone -q https://github.com/jlopezalo/pyafmrheo.git /private/var/folders/4k/ps22fmxj3gx6vls78t2p63wh0000gn/T/pip-req-build-ejnel06s\n",
      "Requirement already satisfied: lmfit>=1 in /opt/anaconda3/lib/python3.8/site-packages (from pyafmrheo==0.0.1) (1.0.3)\n",
      "Requirement already satisfied: numpy>=1.16.0 in /opt/anaconda3/lib/python3.8/site-packages (from pyafmrheo==0.0.1) (1.20.1)\n",
      "Requirement already satisfied: pandas in /opt/anaconda3/lib/python3.8/site-packages (from pyafmrheo==0.0.1) (1.2.4)\n",
      "Requirement already satisfied: scipy in /opt/anaconda3/lib/python3.8/site-packages (from pyafmrheo==0.0.1) (1.6.2)\n",
      "Requirement already satisfied: uncertainties>=3.0.1 in /opt/anaconda3/lib/python3.8/site-packages (from lmfit>=1->pyafmrheo==0.0.1) (3.1.6)\n",
      "Requirement already satisfied: asteval>=0.9.22 in /opt/anaconda3/lib/python3.8/site-packages (from lmfit>=1->pyafmrheo==0.0.1) (0.9.25)\n",
      "Requirement already satisfied: future in /opt/anaconda3/lib/python3.8/site-packages (from uncertainties>=3.0.1->lmfit>=1->pyafmrheo==0.0.1) (0.18.2)\n",
      "Requirement already satisfied: python-dateutil>=2.7.3 in /opt/anaconda3/lib/python3.8/site-packages (from pandas->pyafmrheo==0.0.1) (2.8.1)\n",
      "Requirement already satisfied: pytz>=2017.3 in /opt/anaconda3/lib/python3.8/site-packages (from pandas->pyafmrheo==0.0.1) (2021.1)\n",
      "Requirement already satisfied: six>=1.5 in /opt/anaconda3/lib/python3.8/site-packages (from python-dateutil>=2.7.3->pandas->pyafmrheo==0.0.1) (1.15.0)\n",
      "Building wheels for collected packages: pyafmrheo\n",
      "  Building wheel for pyafmrheo (setup.py) ... \u001b[?25ldone\n",
      "\u001b[?25h  Created wheel for pyafmrheo: filename=pyafmrheo-0.0.1-py3-none-any.whl size=23325 sha256=de8cbba3d76447c24b198fd427848f92296e75b8086ee115da35ac3fec3cedf8\n",
      "  Stored in directory: /private/var/folders/4k/ps22fmxj3gx6vls78t2p63wh0000gn/T/pip-ephem-wheel-cache-ff4684dn/wheels/fb/66/18/3e93b45c845b0d7b83ded1e127a1c127820d070ce5b71dece4\n",
      "Successfully built pyafmrheo\n",
      "Installing collected packages: pyafmrheo\n",
      "Successfully installed pyafmrheo-0.0.1\n",
      "Note: you may need to restart the kernel to use updated packages.\n"
     ]
    }
   ],
   "source": [
    "# Install library for AFM data Rheology Analysis\n",
    "%pip uninstall pyafmrheo --yes\n",
    "%pip install git+https://github.com/jlopezalo/pyafmrheo.git"
   ]
  },
  {
   "cell_type": "code",
   "execution_count": 3,
   "id": "e5925259",
   "metadata": {},
   "outputs": [
    {
     "ename": "ModuleNotFoundError",
     "evalue": "No module named 'hertz'",
     "output_type": "error",
     "traceback": [
      "\u001b[0;31m---------------------------------------------------------------------------\u001b[0m",
      "\u001b[0;31mModuleNotFoundError\u001b[0m                       Traceback (most recent call last)",
      "\u001b[0;32m<ipython-input-3-bbcb36a2cd0d>\u001b[0m in \u001b[0;36m<module>\u001b[0;34m\u001b[0m\n\u001b[1;32m     10\u001b[0m \u001b[0;32mfrom\u001b[0m \u001b[0mpyafmrheo\u001b[0m\u001b[0;34m.\u001b[0m\u001b[0mhertz_fit\u001b[0m \u001b[0;32mimport\u001b[0m \u001b[0mHertzFit\u001b[0m\u001b[0;34m\u001b[0m\u001b[0;34m\u001b[0m\u001b[0m\n\u001b[1;32m     11\u001b[0m \u001b[0;32mfrom\u001b[0m \u001b[0mpyafmrheo\u001b[0m\u001b[0;34m.\u001b[0m\u001b[0mting_numerical_fit\u001b[0m \u001b[0;32mimport\u001b[0m \u001b[0mTingNumericalFit\u001b[0m\u001b[0;34m\u001b[0m\u001b[0;34m\u001b[0m\u001b[0m\n\u001b[0;32m---> 12\u001b[0;31m \u001b[0;32mfrom\u001b[0m \u001b[0mpyafmrheo\u001b[0m\u001b[0;34m.\u001b[0m\u001b[0mting_analytical_fit\u001b[0m \u001b[0;32mimport\u001b[0m \u001b[0mTingAnaliticalFit\u001b[0m\u001b[0;34m\u001b[0m\u001b[0;34m\u001b[0m\u001b[0m\n\u001b[0m\u001b[1;32m     13\u001b[0m \u001b[0;32mfrom\u001b[0m \u001b[0mpyafmrheo\u001b[0m\u001b[0;34m.\u001b[0m\u001b[0mmodels\u001b[0m\u001b[0;34m.\u001b[0m\u001b[0mting_numerical\u001b[0m \u001b[0;32mimport\u001b[0m \u001b[0msimple_power_law\u001b[0m\u001b[0;34m\u001b[0m\u001b[0;34m\u001b[0m\u001b[0m\n",
      "\u001b[0;32m/opt/anaconda3/lib/python3.8/site-packages/pyafmrheo/ting_analytical_fit.py\u001b[0m in \u001b[0;36m<module>\u001b[0;34m\u001b[0m\n\u001b[1;32m      1\u001b[0m \u001b[0;32mfrom\u001b[0m \u001b[0mlmfit\u001b[0m \u001b[0;32mimport\u001b[0m \u001b[0mModel\u001b[0m\u001b[0;34m,\u001b[0m \u001b[0mParameters\u001b[0m\u001b[0;34m\u001b[0m\u001b[0;34m\u001b[0m\u001b[0m\n\u001b[1;32m      2\u001b[0m \u001b[0;34m\u001b[0m\u001b[0m\n\u001b[0;32m----> 3\u001b[0;31m \u001b[0;32mfrom\u001b[0m \u001b[0;34m.\u001b[0m\u001b[0mmodels\u001b[0m\u001b[0;34m.\u001b[0m\u001b[0mting_analytical\u001b[0m \u001b[0;32mimport\u001b[0m \u001b[0mting_analytical_cone\u001b[0m\u001b[0;34m\u001b[0m\u001b[0;34m\u001b[0m\u001b[0m\n\u001b[0m\u001b[1;32m      4\u001b[0m \u001b[0;34m\u001b[0m\u001b[0m\n\u001b[1;32m      5\u001b[0m def TingAnaliticalFit(\n",
      "\u001b[0;32m/opt/anaconda3/lib/python3.8/site-packages/pyafmrheo/models/ting_analytical.py\u001b[0m in \u001b[0;36m<module>\u001b[0;34m\u001b[0m\n\u001b[1;32m      1\u001b[0m \u001b[0;32mimport\u001b[0m \u001b[0mnumpy\u001b[0m \u001b[0;32mas\u001b[0m \u001b[0mnp\u001b[0m\u001b[0;34m\u001b[0m\u001b[0;34m\u001b[0m\u001b[0m\n\u001b[0;32m----> 2\u001b[0;31m \u001b[0;32mfrom\u001b[0m \u001b[0mhertz\u001b[0m \u001b[0;32mimport\u001b[0m \u001b[0mhertz_model_params\u001b[0m\u001b[0;34m\u001b[0m\u001b[0;34m\u001b[0m\u001b[0m\n\u001b[0m\u001b[1;32m      3\u001b[0m \u001b[0;34m\u001b[0m\u001b[0m\n\u001b[1;32m      4\u001b[0m \u001b[0;34m\u001b[0m\u001b[0m\n\u001b[1;32m      5\u001b[0m def ting_analytical_cone(\n",
      "\u001b[0;31mModuleNotFoundError\u001b[0m: No module named 'hertz'"
     ]
    }
   ],
   "source": [
    "# Import libraries we will need\n",
    "import numpy as np\n",
    "\n",
    "# Get file reader from library\n",
    "from jpkreader import load_jpk_file\n",
    "import matplotlib.pyplot as plt\n",
    "\n",
    "# Get data analysis tools\n",
    "from pyafmrheo.utils.force_curves import *\n",
    "from pyafmrheo.hertz_fit import HertzFit\n",
    "from pyafmrheo.ting_numerical_fit import TingNumericalFit\n",
    "from pyafmrheo.ting_analytical_fit import TingAnaliticalFit\n",
    "from pyafmrheo.models.ting_numerical import simple_power_law"
   ]
  },
  {
   "cell_type": "code",
   "execution_count": null,
   "id": "f5cf5b1a",
   "metadata": {},
   "outputs": [],
   "source": [
    "# Define global variables\n",
    "file_path = '/Users/javierlopez/Documents/Marseille/05-11-2021/E/map-data-2021.11.05-15.41.45.699.jpk-force-map'\n",
    "# Shapes available: Paraboloid, Pyramidal\n",
    "indenter_shape = \"pyramid\"\n",
    "# tip_parameter = 5000 * 1e-9 # meters\n",
    "tip_parameter = 35 # degrees\n",
    "poisson_ratio = 0.5\n",
    "# If None it will use the deflection sensitivity from the file\n",
    "deflection_sensitivity = None # m/V\n",
    "# If None it will use the spring constant from the file\n",
    "spring_constant = None # N/m\n",
    "contact_offset= 0"
   ]
  },
  {
   "cell_type": "code",
   "execution_count": null,
   "id": "921b9a67",
   "metadata": {},
   "outputs": [],
   "source": [
    "file = load_jpk_file(file_path)"
   ]
  },
  {
   "cell_type": "code",
   "execution_count": null,
   "id": "5027f546",
   "metadata": {},
   "outputs": [],
   "source": [
    "file_id = file.file_id\n",
    "file_type = file.file_type\n",
    "file_metadata = file.file_metadata\n",
    "file_data = file.data\n",
    "piezo_image = file.piezo_image\n",
    "quality_map = file.quality_map"
   ]
  },
  {
   "cell_type": "code",
   "execution_count": null,
   "id": "062341ea",
   "metadata": {},
   "outputs": [],
   "source": [
    "closed_loop = file_metadata['z_closed_loop_status']\n",
    "file_deflection_sensitivity = file_metadata['original_deflection_sensitivity'] #nm/V\n",
    "file_spring_constant = file_metadata['original_spring_constant'] #N/m\n",
    "height_channel = file_metadata['height_channel_key']\n",
    "\n",
    "if not deflection_sensitivity: deflection_sensitivity = file_deflection_sensitivity / 1e9 #m/V\n",
    "if not spring_constant: spring_constant = file_spring_constant"
   ]
  },
  {
   "cell_type": "code",
   "execution_count": null,
   "id": "973261b0",
   "metadata": {},
   "outputs": [],
   "source": [
    "curve_idx = 0\n",
    "force_curve = file_data[curve_idx]\n",
    "extend_segments = force_curve.extend_segments\n",
    "pause_segments = force_curve.pause_segments\n",
    "modulation_segments = force_curve.modulation_segments\n",
    "retract_segments = force_curve.retract_segments\n",
    "force_curve_segments = [*extend_segments, *pause_segments, *modulation_segments, *retract_segments]\n",
    "force_curve_segments = sorted(force_curve_segments, key=lambda x: int(x[0]))"
   ]
  },
  {
   "cell_type": "code",
   "execution_count": null,
   "id": "de1152b3",
   "metadata": {},
   "outputs": [],
   "source": [
    "t0 = 0\n",
    "for seg_id, segment in force_curve_segments:\n",
    "    height = segment.segment_formated_data[height_channel]\n",
    "    time = segment.segment_formated_data[\"time\"] + t0\n",
    "    plt.plot(time, height)\n",
    "    t0 = time[-1]\n",
    "\n",
    "plt.xlabel(\"Time [s]\")\n",
    "plt.ylabel(\"Height [Meters]\")\n",
    "plt.grid()\n",
    "plt.show()"
   ]
  },
  {
   "cell_type": "code",
   "execution_count": null,
   "id": "223791b7",
   "metadata": {},
   "outputs": [],
   "source": [
    "t0 = 0\n",
    "for seg_id, segment in force_curve_segments:\n",
    "    deflection = segment.segment_formated_data[\"vDeflection\"]\n",
    "    time = segment.segment_formated_data[\"time\"] + t0\n",
    "    plt.plot(time, deflection)\n",
    "    t0 = time[-1]\n",
    "\n",
    "plt.xlabel(\"Time [s]\")\n",
    "plt.ylabel(\"Deflection [Volts]\")\n",
    "plt.grid()\n",
    "plt.show()"
   ]
  },
  {
   "cell_type": "code",
   "execution_count": null,
   "id": "7dbd75fe",
   "metadata": {},
   "outputs": [],
   "source": [
    "for seg_id, segment in force_curve_segments:\n",
    "    height = segment.segment_formated_data[height_channel]\n",
    "    deflection = segment.segment_formated_data[\"vDeflection\"]\n",
    "    plt.plot(height, deflection)\n",
    "\n",
    "plt.xlabel(\"Piezo Height [Meters]\")\n",
    "plt.ylabel(\"vDeflection [Volts]\")\n",
    "plt.grid()\n",
    "plt.show()"
   ]
  },
  {
   "cell_type": "code",
   "execution_count": null,
   "id": "c1f7988f",
   "metadata": {},
   "outputs": [],
   "source": [
    "_, approach_segment = force_curve.extend_segments[0]\n",
    "approach_segment_metadata = approach_segment.segment_metadata\n",
    "\n",
    "app_deflection, app_height, app_time =\\\n",
    "    preprocess_segment(approach_segment, height_channel, deflection_sensitivity)\n",
    "\n",
    "_, retract_segment = force_curve.retract_segments[-1]\n",
    "retract_segment_metadata = retract_segment.segment_metadata\n",
    "ret_deflection, ret_height, ret_time =\\\n",
    "    preprocess_segment(retract_segment, height_channel, deflection_sensitivity)"
   ]
  },
  {
   "cell_type": "code",
   "execution_count": null,
   "id": "61752a0c",
   "metadata": {},
   "outputs": [],
   "source": [
    "# Shift height\n",
    "xzero = ret_height[-1] # Maximum height\n",
    "app_height = xzero - app_height\n",
    "ret_height = xzero - ret_height"
   ]
  },
  {
   "cell_type": "code",
   "execution_count": null,
   "id": "38d7dce8",
   "metadata": {},
   "outputs": [],
   "source": [
    "# Find initial PoC, you may get some warnings.\n",
    "poc = get_poc_RoV_method(app_height, app_deflection, win_size=100)\n",
    "print(*poc)"
   ]
  },
  {
   "cell_type": "code",
   "execution_count": null,
   "id": "433d10d0",
   "metadata": {},
   "outputs": [],
   "source": [
    "plt.plot(app_height, app_deflection)\n",
    "plt.axvline(x=poc[0], color='r', linestyle='--')\n",
    "plt.axhline(y=poc[1], color='r', linestyle='--')\n",
    "plt.grid()\n",
    "plt.show()"
   ]
  },
  {
   "cell_type": "code",
   "execution_count": null,
   "id": "8aca684b",
   "metadata": {},
   "outputs": [],
   "source": [
    "# Hertz fit\n",
    "poc[1] = 0\n",
    "\n",
    "app_indentation, app_force =\\\n",
    "    get_force_vs_indentation_curve(app_height, app_deflection, poc, spring_constant)\n",
    "ret_indentation, ret_force =\\\n",
    "    get_force_vs_indentation_curve(ret_height, ret_deflection, poc, spring_constant)\n",
    "\n",
    "# Initial parameters\n",
    "# delta0, f0, slope, E0\n",
    "p0 = [0, 0, 1, 1000]\n",
    "\n",
    "hertz_result = HertzFit(app_indentation, app_force, indenter_shape, tip_parameter, p0, poisson_ratio)\n",
    "\n",
    "hertz_E = hertz_result.best_values['E0']\n",
    "hertz_d0 = hertz_result.best_values['delta0']\n",
    "\n",
    "print(hertz_result.fit_report())\n",
    "\n",
    "# Plot Hertz Fit results\n",
    "plt.plot(app_indentation, app_force)\n",
    "plt.plot(app_indentation, hertz_result.best_fit)\n",
    "plt.xlabel('Indentation [m]')\n",
    "plt.ylabel('Force [N]')\n",
    "plt.grid()\n",
    "plt.show()"
   ]
  },
  {
   "cell_type": "code",
   "execution_count": null,
   "id": "baf50725",
   "metadata": {},
   "outputs": [],
   "source": [
    "# Get force vs indentation for all segments\n",
    "poc[0] += hertz_d0\n",
    "poc[1] = 0\n",
    "\n",
    "# Get indentation and force\n",
    "app_indentation, app_force = get_force_vs_indentation_curve(app_height, app_deflection, poc, spring_constant)\n",
    "ret_indentation, ret_force = get_force_vs_indentation_curve(ret_height, ret_deflection, poc, spring_constant)"
   ]
  },
  {
   "cell_type": "code",
   "execution_count": null,
   "id": "e2994602",
   "metadata": {},
   "outputs": [],
   "source": [
    "indentation = np.r_[app_indentation, ret_indentation]\n",
    "force = np.r_[app_force, ret_force]\n",
    "t0 = app_time[-1]\n",
    "time = np.r_[app_time, ret_time + t0]"
   ]
  },
  {
   "cell_type": "code",
   "execution_count": null,
   "id": "063db1f2",
   "metadata": {},
   "outputs": [],
   "source": [
    "fit_mask = indentation > (-1 * contact_offset)\n",
    "    \n",
    "ind_fit = indentation[fit_mask] \n",
    "force_fit = force[fit_mask]\n",
    "time_fit = time[fit_mask]\n",
    "time_fit = time_fit - time_fit[0]\n",
    "\n",
    "# Parameters for fit\n",
    "dT = time_fit[1] - time_fit[0]\n",
    "dTp = 1\n",
    "E0 = hertz_E\n",
    "fluidity_exponent = 0.15\n",
    "smoothing_window = 5\n",
    "relaxation_function = simple_power_law\n",
    "tmax = time_fit[ind_fit.argmax()]\n",
    "v0 = (app_height[-1] - app_height[0]) / (app_time[-1] - app_time[0])\n",
    "#v0r = -1 * (ret_height[-1] - ret_height[0]) / (ret_time[-1] - ret_time[0])\n",
    "slope = 0\n",
    "f0 = 0\n",
    "d0 = 0"
   ]
  },
  {
   "cell_type": "code",
   "execution_count": null,
   "id": "5302b998",
   "metadata": {},
   "outputs": [],
   "source": [
    "p0_ting_num = [E0, fluidity_exponent, f0, slope, d0]\n",
    "\n",
    "resultTingNum = TingNumericalFit(\n",
    "      ind_fit, force_fit, time_fit, indenter_shape, tip_parameter, p0_ting_num, dT, dTp,\n",
    "      smoothing_window, relaxation_function, poisson_ratio\n",
    ")\n",
    "\n",
    "print(resultTingNum.fit_report())"
   ]
  },
  {
   "cell_type": "code",
   "execution_count": null,
   "id": "928ebd67",
   "metadata": {},
   "outputs": [],
   "source": [
    "p0_ting_anal = [E0, fluidity_exponent, f0, slope, tmax]\n",
    "\n",
    "resultTingAnal = TingAnaliticalFit(\n",
    "     force_fit, time_fit, indenter_shape, tip_parameter, p0_ting_anal, dTp, v0, poisson_ratio\n",
    ")\n",
    "\n",
    "print(resultTingAnal.fit_report())"
   ]
  },
  {
   "cell_type": "code",
   "execution_count": null,
   "id": "3d501109",
   "metadata": {},
   "outputs": [],
   "source": [
    "plt.plot(ind_fit, force_fit)\n",
    "plt.plot(ind_fit, resultTingNum.best_fit, '--', label='Ting Numercial best fit')\n",
    "plt.plot(ind_fit, resultTingAnal.best_fit, '--', label='Ting Analytical best fit')\n",
    "plt.xlabel(\"Indentation [m]\")\n",
    "plt.ylabel(\"Force[N]\")\n",
    "plt.legend()\n",
    "plt.grid()\n",
    "plt.show()"
   ]
  },
  {
   "cell_type": "code",
   "execution_count": null,
   "id": "5c6ed90d",
   "metadata": {},
   "outputs": [],
   "source": [
    "np.abs(resultTingAnal.best_values['E0'] - resultTingNum.best_values['E0'])"
   ]
  },
  {
   "cell_type": "code",
   "execution_count": null,
   "id": "8c01f194",
   "metadata": {
    "scrolled": true
   },
   "outputs": [],
   "source": [
    "np.abs(resultTingAnal.best_values['beta'] - resultTingNum.best_values['alpha'])"
   ]
  }
 ],
 "metadata": {
  "kernelspec": {
   "display_name": "Python 3",
   "language": "python",
   "name": "python3"
  },
  "language_info": {
   "codemirror_mode": {
    "name": "ipython",
    "version": 3
   },
   "file_extension": ".py",
   "mimetype": "text/x-python",
   "name": "python",
   "nbconvert_exporter": "python",
   "pygments_lexer": "ipython3",
   "version": "3.8.8"
  }
 },
 "nbformat": 4,
 "nbformat_minor": 5
}
