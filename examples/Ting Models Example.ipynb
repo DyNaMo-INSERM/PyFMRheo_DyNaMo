{
 "cells": [
  {
   "cell_type": "code",
   "execution_count": 1,
   "id": "0cdfff1b",
   "metadata": {},
   "outputs": [],
   "source": [
    "# Install library for reading JPK File\n",
    "# %pip uninstall pyafmreader --yes\n",
    "# %pip install git+https://github.com/jlopezalo/pyafmreader.git"
   ]
  },
  {
   "cell_type": "code",
   "execution_count": null,
   "id": "788d38ae",
   "metadata": {},
   "outputs": [
    {
     "name": "stdout",
     "output_type": "stream",
     "text": [
      "Found existing installation: pyafmrheo 0.0.1\n",
      "Uninstalling pyafmrheo-0.0.1:\n",
      "  Successfully uninstalled pyafmrheo-0.0.1\n",
      "Note: you may need to restart the kernel to use updated packages.\n",
      "Collecting git+https://github.com/jlopezalo/pyafmrheo.git\n",
      "  Cloning https://github.com/jlopezalo/pyafmrheo.git to /private/var/folders/4k/ps22fmxj3gx6vls78t2p63wh0000gn/T/pip-req-build-gpo59qeb\n",
      "  Running command git clone -q https://github.com/jlopezalo/pyafmrheo.git /private/var/folders/4k/ps22fmxj3gx6vls78t2p63wh0000gn/T/pip-req-build-gpo59qeb\n"
     ]
    }
   ],
   "source": [
    "# Install library for AFM data Rheology Analysis\n",
    "%pip uninstall pyafmrheo --yes\n",
    "%pip install git+https://github.com/jlopezalo/pyafmrheo.git"
   ]
  },
  {
   "cell_type": "code",
   "execution_count": null,
   "id": "e5925259",
   "metadata": {},
   "outputs": [],
   "source": [
    "# Import libraries we will need\n",
    "import numpy as np\n",
    "import matplotlib.pyplot as plt\n",
    "\n",
    "# Get file reader from library\n",
    "from pyafmreader import loadfile\n",
    "\n",
    "# Get data analysis tools\n",
    "from pyafmrheo.utils.force_curves import *\n",
    "from pyafmrheo.models.hertz import HertzModel\n",
    "from pyafmrheo.models.ting import TingModel"
   ]
  },
  {
   "cell_type": "code",
   "execution_count": null,
   "id": "f5cf5b1a",
   "metadata": {},
   "outputs": [],
   "source": [
    "# Define global variables\n",
    "file_path = '/Users/javierlopez/Documents/Marseille/05-11-2021/E/map-data-2021.11.05-15.41.45.699.jpk-force-map'\n",
    "# file_path = '/Users/javierlopez/Documents/testingPyFM/map-data-2021.12.06-19.40.19.296.jpk-force-map'\n",
    "# file_path = '/Users/javierlopez/Documents/pyafmreader/tests/testfiles/20200903_Egel2.0_00023.spm'\n",
    "# file_path = '/Users/javierlopez/Documents/pyafmreader/tests/testfiles/20200904_Egel4-Z1.0_00025.spm'\n",
    "# file_path = '/Users/javierlopez/Documents/pyafmreader/tests/testfiles/08171528.0_00001.pfc'\n",
    "# Shapes available: paraboloid, pyramid\n",
    "indenter_shape = \"paraboloid\"\n",
    "# indenter_shape = \"pyramid\"\n",
    "tip_parameter = 30 * 1e-9 # meters\n",
    "# tip_parameter = 35 # degrees\n",
    "# Poisson ratio\n",
    "poisson_ratio = 0.5\n",
    "# If None it will use the deflection sensitivity from the file\n",
    "deflection_sensitivity = None # m/V\n",
    "# If None it will use the spring constant from the file\n",
    "spring_constant = None # N/m\n",
    "# General plotting params\n",
    "plt.rcParams[\"figure.figsize\"] = (10,5)\n",
    "vdrag = 0"
   ]
  },
  {
   "cell_type": "code",
   "execution_count": null,
   "id": "921b9a67",
   "metadata": {},
   "outputs": [],
   "source": [
    "file = loadfile(file_path)"
   ]
  },
  {
   "cell_type": "code",
   "execution_count": null,
   "id": "5027f546",
   "metadata": {},
   "outputs": [],
   "source": [
    "filemetadata = file.filemetadata\n",
    "# print(filemetadata)"
   ]
  },
  {
   "cell_type": "code",
   "execution_count": null,
   "id": "062341ea",
   "metadata": {},
   "outputs": [],
   "source": [
    "closed_loop = filemetadata['z_closed_loop']\n",
    "file_deflection_sensitivity = filemetadata['defl_sens_nmbyV'] #nm/V\n",
    "file_spring_constant = filemetadata['spring_const_Nbym'] #N/m\n",
    "height_channel = filemetadata['height_channel_key']\n",
    "\n",
    "if not deflection_sensitivity: deflection_sensitivity = file_deflection_sensitivity / 1e9 #m/V\n",
    "if not spring_constant: spring_constant = file_spring_constant\n",
    "    \n",
    "print(file_spring_constant)\n",
    "print(deflection_sensitivity)"
   ]
  },
  {
   "cell_type": "code",
   "execution_count": null,
   "id": "973261b0",
   "metadata": {},
   "outputs": [],
   "source": [
    "curve_idx = 0\n",
    "# curve_idx = 4\n",
    "force_curve = file.getcurve(curve_idx)\n",
    "extend_segments = force_curve.extend_segments\n",
    "pause_segments = force_curve.pause_segments\n",
    "modulation_segments = force_curve.modulation_segments\n",
    "retract_segments = force_curve.retract_segments\n",
    "force_curve_segments = force_curve.get_segments()"
   ]
  },
  {
   "cell_type": "code",
   "execution_count": null,
   "id": "de1152b3",
   "metadata": {},
   "outputs": [],
   "source": [
    "t0 = 0\n",
    "for seg_id, segment in force_curve_segments:\n",
    "    height = segment.segment_formated_data[height_channel]\n",
    "    if seg_id == '1':\n",
    "         height = height[::-1]\n",
    "    time = segment.segment_formated_data[\"time\"] + t0\n",
    "    plt.plot(time, height)\n",
    "    t0 = time[-1]\n",
    "\n",
    "plt.xlabel(\"Time [s]\")\n",
    "plt.ylabel(\"Height [Meters]\")\n",
    "plt.grid()\n",
    "plt.show()"
   ]
  },
  {
   "cell_type": "code",
   "execution_count": null,
   "id": "223791b7",
   "metadata": {},
   "outputs": [],
   "source": [
    "t0 = 0\n",
    "for seg_id, segment in force_curve_segments:\n",
    "    deflection = segment.segment_formated_data[\"vDeflection\"]\n",
    "    time = segment.segment_formated_data[\"time\"] + t0\n",
    "    plt.plot(time, deflection)\n",
    "    t0 = time[-1]\n",
    "\n",
    "plt.xlabel(\"Time [s]\")\n",
    "plt.ylabel(\"Deflection [Volts]\")\n",
    "plt.grid()\n",
    "plt.show()"
   ]
  },
  {
   "cell_type": "code",
   "execution_count": null,
   "id": "7dbd75fe",
   "metadata": {},
   "outputs": [],
   "source": [
    "for seg_id, segment in force_curve_segments:\n",
    "    height = segment.segment_formated_data[height_channel]\n",
    "    deflection = segment.segment_formated_data[\"vDeflection\"]\n",
    "    plt.plot(height, deflection)\n",
    "\n",
    "plt.xlabel(\"Piezo Height [Meters]\")\n",
    "plt.ylabel(\"vDeflection [Volts]\")\n",
    "plt.grid()\n",
    "plt.show()"
   ]
  },
  {
   "cell_type": "code",
   "execution_count": null,
   "id": "c1f7988f",
   "metadata": {},
   "outputs": [],
   "source": [
    "force_curve.preprocess_force_curve(deflection_sensitivity, height_channel)\n",
    "\n",
    "# Get approach, first extend segment\n",
    "first_exted_seg_id, first_ext_seg = extend_segments[0]\n",
    "\n",
    "# Get retract, last retract segment\n",
    "last_ret_seg_id, last_ret_seg = retract_segments[-1]"
   ]
  },
  {
   "cell_type": "code",
   "execution_count": null,
   "id": "464b4531",
   "metadata": {},
   "outputs": [],
   "source": [
    "# Shift height\n",
    "force_curve.shift_height()"
   ]
  },
  {
   "cell_type": "code",
   "execution_count": null,
   "id": "1f216c71",
   "metadata": {},
   "outputs": [],
   "source": [
    "t_offset = np.abs(first_ext_seg.zheight[-1] - last_ret_seg.zheight[0]) / 150e-6\n",
    "dt = np.abs(first_ext_seg.time[1] - first_ext_seg.time[0])\n",
    "print(t_offset > 2 * dt)\n",
    "if t_offset > 2 * dt:\n",
    "     last_ret_seg.time = last_ret_seg.time + t_offset"
   ]
  },
  {
   "cell_type": "code",
   "execution_count": null,
   "id": "c94d15c2",
   "metadata": {},
   "outputs": [],
   "source": [
    "plt.plot(first_ext_seg.time, first_ext_seg.zheight)\n",
    "plt.plot(last_ret_seg.time + first_ext_seg.time[-1], last_ret_seg.zheight)"
   ]
  },
  {
   "cell_type": "code",
   "execution_count": null,
   "id": "c5e638b5",
   "metadata": {},
   "outputs": [],
   "source": [
    "app_height = first_ext_seg.zheight\n",
    "app_deflection = first_ext_seg.vdeflection\n",
    "ret_height = last_ret_seg.zheight\n",
    "ret_deflection = last_ret_seg.vdeflection"
   ]
  },
  {
   "cell_type": "code",
   "execution_count": null,
   "id": "0697b378",
   "metadata": {},
   "outputs": [],
   "source": [
    "first_ext_seg.velocity\n",
    "first_ext_seg.segment_metadata"
   ]
  },
  {
   "cell_type": "code",
   "execution_count": null,
   "id": "b46908f2",
   "metadata": {},
   "outputs": [],
   "source": [
    "np.abs(first_ext_seg.zheight.min() - first_ext_seg.zheight.max())"
   ]
  },
  {
   "cell_type": "code",
   "execution_count": null,
   "id": "5b3f6306",
   "metadata": {},
   "outputs": [],
   "source": [
    "v0t = np.abs(first_ext_seg.zheight.min() - first_ext_seg.zheight.max())/first_ext_seg.segment_metadata['duration']\n",
    "v0t *= 1e6\n",
    "v0t"
   ]
  },
  {
   "cell_type": "code",
   "execution_count": null,
   "id": "a5025c72",
   "metadata": {},
   "outputs": [],
   "source": [
    "v0r = np.abs(last_ret_seg.zheight.min() - last_ret_seg.zheight.max())/first_ext_seg.segment_metadata['duration']\n",
    "v0r *= 1e6\n",
    "v0r"
   ]
  },
  {
   "cell_type": "code",
   "execution_count": null,
   "id": "38d7dce8",
   "metadata": {},
   "outputs": [],
   "source": [
    "# Find initial PoC, you may get some warnings.\n",
    "poc = get_poc_RoV_method(app_height, app_deflection, win_size=50)\n",
    "print(*poc)"
   ]
  },
  {
   "cell_type": "code",
   "execution_count": null,
   "id": "433d10d0",
   "metadata": {},
   "outputs": [],
   "source": [
    "plt.plot(app_height, app_deflection)\n",
    "plt.axvline(x=poc[0], color='r', linestyle='--')\n",
    "plt.axhline(y=poc[1], color='r', linestyle='--')\n",
    "plt.grid()\n",
    "plt.show()"
   ]
  },
  {
   "cell_type": "code",
   "execution_count": null,
   "id": "798573bf",
   "metadata": {},
   "outputs": [],
   "source": [
    "#plt.plot(app_height, app_deflection)\n",
    "#mask = app_height<poc[0]\n",
    "#plt.plot(app_height[mask], app_deflection[mask])\n",
    "#z = np.poly1d(np.polyfit(app_height[mask], app_deflection[mask], 1))\n",
    "#plt.plot(app_height[mask], z(app_height[mask]))\n",
    "#plt.show()\n",
    "#plt.plot(app_height, app_deflection-z(app_height))\n",
    "#plt.plot(ret_height, ret_deflection-z(ret_height))\n",
    "#first_ext_seg.vdeflection = app_deflection-z(app_height)\n",
    "#last_ret_seg.vdeflection = ret_deflection-z(ret_height)"
   ]
  },
  {
   "cell_type": "code",
   "execution_count": null,
   "id": "8aca684b",
   "metadata": {},
   "outputs": [],
   "source": [
    "# Hertz fit\n",
    "first_ext_seg.get_force_vs_indentation(poc, spring_constant)\n",
    "app_indentation, app_force = first_ext_seg.indentation, first_ext_seg.force\n",
    "\n",
    "# plt.plot(app_height - poc[0], app_deflection*spring_constant)\n",
    "# plt.show()\n",
    "\n",
    "# app_indentation = app_height - poc[0]\n",
    "# app_force = app_deflection*spring_constant\n",
    "\n",
    "hertzmodel = HertzModel(indenter_shape, tip_parameter)\n",
    "hertzmodel.fit(app_indentation, app_force)\n",
    "\n",
    "hertzmodel.fit_report()\n",
    "\n",
    "hertz_E0 = hertzmodel.E0\n",
    "hertz_d0 = hertzmodel.delta0\n",
    "hertz_f0 = hertzmodel.f0\n",
    "\n",
    "print(hertz_E0)\n",
    "\n",
    "# Plot Hertz Fit results\n",
    "plt.plot(app_indentation-hertz_d0, app_force-hertz_f0, label=\"Experimental Data\")\n",
    "plt.plot(app_indentation-hertz_d0, hertzmodel.eval(app_indentation)-hertz_f0, label=\"Model Fit\")\n",
    "plt.xlabel('Indentation [m]')\n",
    "plt.ylabel('Force [N]')\n",
    "plt.legend()\n",
    "plt.grid()\n",
    "plt.show()\n",
    "\n",
    "# Plot residuals\n",
    "plt.plot(app_indentation-hertz_d0, hertzmodel.get_residuals(app_indentation, app_force), \"bo\")\n",
    "plt.xlabel('Indentation [m]')\n",
    "plt.ylabel('Residuals [N]')\n",
    "plt.grid()\n",
    "plt.show()"
   ]
  },
  {
   "cell_type": "code",
   "execution_count": null,
   "id": "baf50725",
   "metadata": {},
   "outputs": [],
   "source": [
    "# Get force vs indentation for all segments\n",
    "poc[0] += hertz_d0\n",
    "\n",
    "# Get indentation and force\n",
    "first_ext_seg.get_force_vs_indentation(poc, spring_constant)\n",
    "app_indentation, app_force, app_time = first_ext_seg.indentation, first_ext_seg.force, first_ext_seg.time\n",
    "last_ret_seg.get_force_vs_indentation(poc, spring_constant)\n",
    "ret_indentation, ret_force, ret_time = last_ret_seg.indentation, last_ret_seg.force, last_ret_seg.time"
   ]
  },
  {
   "cell_type": "code",
   "execution_count": null,
   "id": "063db1f2",
   "metadata": {},
   "outputs": [],
   "source": [
    "indentation = np.r_[app_indentation, ret_indentation]\n",
    "# yf_app_ind = indentation[-1]\n",
    "# y0_ret_ind = indentation[0]\n",
    "idx_tc = (np.abs(app_indentation - 0)).argmin()\n",
    "# yf_app_f = app_force[-1]\n",
    "# y0_ret_f = ret_force[0]\n",
    "t0 = app_time[-1]\n",
    "time = np.r_[app_time, ret_time + t0]\n",
    "# xf_app = app_time[-1]\n",
    "# x0_ret = (ret_time + t0)[0]\n",
    "# dt = time[1] - time[0]\n",
    "# nbrp_int = int(np.round((x0_ret-xf_app)/dt))\n",
    "# points = np.linspace(xf_app, x0_ret, num=nbrp_int)\n",
    "# int_points_f = np.interp(points, [xf_app, x0_ret], [yf_app_f, y0_ret_f])\n",
    "# int_points_ind = np.interp(points, [xf_app, x0_ret], [yf_app_ind, y0_ret_ind])\n",
    "# idx_start = nbrp_int//2\n",
    "# force = np.r_[app_force, int_points_f, ret_force]\n",
    "# print(points)\n",
    "# print(int_points)\n",
    "# plt.plot(app_time, app_indentation, 'o', markersize=2)\n",
    "# plt.plot(points, int_points_ind, 'o', markersize=2)\n",
    "# plt.plot(ret_time + t0, ret_indentation, 'o', markersize=2)\n",
    "# plt.show()\n",
    "# plt.plot(app_time, app_force, 'o', markersize=2)\n",
    "# plt.plot(points, int_points_f, 'o', markersize=2)\n",
    "# plt.plot(ret_time + t0, ret_force, 'o', markersize=2)\n",
    "# plt.show()\n",
    "force = np.r_[app_force, ret_force]\n",
    "tc = time[idx_tc]\n",
    "fit_mask = indentation > (-1 * 1e-6)\n",
    "ind_fit = indentation[fit_mask]\n",
    "force_fit = force[fit_mask]\n",
    "force_fit = force_fit - force_fit[0]\n",
    "time_fit = time[fit_mask]\n",
    "tc_fit = tc-time_fit[0]\n",
    "time_fit = time_fit - time_fit[0]\n",
    "tm = time_fit[np.argmax(force_fit)]\n",
    "idx_tm = np.argmax(force_fit)"
   ]
  },
  {
   "cell_type": "code",
   "execution_count": null,
   "id": "7ca2d5fa",
   "metadata": {},
   "outputs": [],
   "source": [
    "plt.plot(time_fit, ind_fit)"
   ]
  },
  {
   "cell_type": "code",
   "execution_count": null,
   "id": "78a5fd34",
   "metadata": {},
   "outputs": [],
   "source": [
    "plt.plot(time_fit, force_fit)\n",
    "plt.axvline(x=tc_fit, color='r', linestyle='--')\n",
    "plt.axvline(x=tm, color='g', linestyle='--')\n",
    "plt.show()"
   ]
  },
  {
   "cell_type": "code",
   "execution_count": null,
   "id": "85d67eee-699f-4799-aef1-9dec992e33f7",
   "metadata": {},
   "outputs": [],
   "source": [
    "help(TingModel)"
   ]
  },
  {
   "cell_type": "code",
   "execution_count": null,
   "id": "d2c19a31",
   "metadata": {},
   "outputs": [],
   "source": [
    "downfactor=int(len(time_fit)/300)\n",
    "downfactor = 1\n",
    "idxDown = list(range(0, len(time_fit), downfactor))\n",
    "idx_tm = np.argmax(force_fit[idxDown])\n",
    "f0idx = np.where(time_fit==tc_fit)[0]\n",
    "F0_init=force_fit[f0idx]-vdrag*v0t"
   ]
  },
  {
   "cell_type": "code",
   "execution_count": null,
   "id": "faa70122",
   "metadata": {},
   "outputs": [],
   "source": [
    "tc_max = tc_fit+downfactor/(1/(time_fit[1]-time_fit[0]))*10\n",
    "tc_min = tc_fit-downfactor/(1/(time_fit[1]-time_fit[0]))*10"
   ]
  },
  {
   "cell_type": "code",
   "execution_count": null,
   "id": "49026263",
   "metadata": {},
   "outputs": [],
   "source": [
    "plt.plot(time_fit[idxDown], force_fit[idxDown], 'o')\n",
    "plt.axvline(x=time_fit[idxDown][idx_tm], color='m', linestyle='--', label='tm')\n",
    "plt.axvline(x=tc_min, color='r', linestyle='--', label='tc_min')\n",
    "plt.axvline(x=tc_max, color='r', linestyle='--', label='tc_min')\n",
    "plt.axvline(x=tc_fit, color='g', linestyle='--', label='tc')\n",
    "plt.axhline(y=F0_init, color='k', linestyle='--', label='f0')\n",
    "plt.axhline(y=F0_init+100e-12, color='b', linestyle='--', label='f0_max')\n",
    "plt.axhline(y=F0_init-100e-12, color='b', linestyle='--', label='f0_min')\n",
    "plt.legend()\n",
    "plt.show()"
   ]
  },
  {
   "cell_type": "code",
   "execution_count": null,
   "id": "5302b998",
   "metadata": {},
   "outputs": [],
   "source": [
    "ting_model_num = TingModel(indenter_shape, tip_parameter, 'numerical')\n",
    "ting_model_num.betaE_init = 0.4\n",
    "ting_model_num.E0_init = hertz_E0\n",
    "ting_model_num.tc_init = tc_fit\n",
    "ting_model_num.F0_init = F0_init\n",
    "# ting_model_num.vdrag = 1.1e3/1e9\n",
    "ting_model_num.fit(time_fit[idxDown], force_fit[idxDown], ind_fit[idxDown], t0=1, idx_tm=idx_tm, smooth_w=1)\n",
    "ting_model_num.fit_report()\n",
    "tc_num = ting_model_num.tc\n",
    "f0_num = ting_model_num.F0"
   ]
  },
  {
   "cell_type": "code",
   "execution_count": null,
   "id": "215d7d6a",
   "metadata": {},
   "outputs": [],
   "source": [
    "ting_model_analit = TingModel(indenter_shape, tip_parameter, 'analytical')\n",
    "ting_model_analit.betaE_init = 0.4\n",
    "ting_model_analit.E0_init = hertz_E0\n",
    "ting_model_analit.tc_init = tc_fit\n",
    "#ting_model_analit.vdrag = 1.1e3/1e9\n",
    "ting_model_analit.fit(time_fit[idxDown], force_fit[idxDown], ind_fit[idxDown], t0=1, idx_tm=idx_tm, smooth_w=1)\n",
    "ting_model_analit.fit_report()\n",
    "tc_analit = ting_model_analit.tc\n",
    "f0_analit = ting_model_analit.F0"
   ]
  },
  {
   "cell_type": "code",
   "execution_count": null,
   "id": "3d501109",
   "metadata": {},
   "outputs": [],
   "source": [
    "idx_tc = (np.abs(time_fit - tc_num)).argmin()\n",
    "delta0 = ind_fit[idx_tc]\n",
    "plt.plot(ind_fit[idxDown], force_fit[idxDown])\n",
    "plt.plot(ind_fit[idxDown],\n",
    "         ting_model_num.eval(time_fit[idxDown], force_fit[idxDown], ind_fit[idxDown], t0=t0, idx_tm=idx_tm, smooth_w=1), '--', label='Ting Numercial best fit')\n",
    "plt.xlabel(\"Indentation [m]\")\n",
    "plt.ylabel(\"Force[N]\")\n",
    "plt.legend()\n",
    "plt.grid()\n",
    "plt.show()"
   ]
  },
  {
   "cell_type": "code",
   "execution_count": null,
   "id": "c70f4e5c",
   "metadata": {},
   "outputs": [],
   "source": [
    "idx_tc = (np.abs(time_fit - tc_analit)).argmin()\n",
    "delta0 = ind_fit[idx_tc]\n",
    "plt.plot(ind_fit[idxDown], force_fit[idxDown])\n",
    "plt.plot(ind_fit[idxDown], ting_model_analit.eval(time_fit[idxDown], force_fit[idxDown], ind_fit[idxDown], t0=t0, idx_tm=idx_tm, smooth_w=1), '--', label='Ting Analytical best fit')\n",
    "plt.xlabel(\"Indentation [m]\")\n",
    "plt.ylabel(\"Force[N]\")\n",
    "plt.legend()\n",
    "plt.grid()\n",
    "plt.show()"
   ]
  },
  {
   "cell_type": "code",
   "execution_count": null,
   "id": "bcc01c42",
   "metadata": {},
   "outputs": [],
   "source": [
    "plt.plot(time_fit-tc_num, force_fit)\n",
    "plt.plot(time_fit-tc_num, ting_model_num.eval(time_fit, force_fit, ind_fit, t0=t0, smooth_w=1), '--', label='Ting Numercial best fit')\n",
    "plt.xlabel(\"Time [s]\")\n",
    "plt.ylabel(\"Force[N]\")\n",
    "plt.legend()\n",
    "plt.grid()\n",
    "plt.show()"
   ]
  },
  {
   "cell_type": "code",
   "execution_count": null,
   "id": "8978ab37-03f1-4bc2-bfdb-58813629adbb",
   "metadata": {},
   "outputs": [],
   "source": [
    "plt.plot(time_fit-tc_analit, force_fit+f0_analit)\n",
    "plt.plot(time_fit-tc_analit, ting_model_analit.eval(time_fit, force_fit, ind_fit, t0=t0, smooth_w=1), '--', label='Ting Analytical best fit')\n",
    "plt.xlabel(\"Time [s]\")\n",
    "plt.ylabel(\"Force[N]\")\n",
    "plt.legend()\n",
    "plt.grid()\n",
    "plt.show()"
   ]
  },
  {
   "cell_type": "code",
   "execution_count": null,
   "id": "ac6fea37",
   "metadata": {},
   "outputs": [],
   "source": []
  },
  {
   "cell_type": "code",
   "execution_count": null,
   "id": "19119d4e",
   "metadata": {},
   "outputs": [],
   "source": []
  },
  {
   "cell_type": "code",
   "execution_count": null,
   "id": "5706a638",
   "metadata": {},
   "outputs": [],
   "source": []
  }
 ],
 "metadata": {
  "kernelspec": {
   "display_name": "Python 3",
   "language": "python",
   "name": "python3"
  },
  "language_info": {
   "codemirror_mode": {
    "name": "ipython",
    "version": 3
   },
   "file_extension": ".py",
   "mimetype": "text/x-python",
   "name": "python",
   "nbconvert_exporter": "python",
   "pygments_lexer": "ipython3",
   "version": "3.8.8"
  }
 },
 "nbformat": 4,
 "nbformat_minor": 5
}
