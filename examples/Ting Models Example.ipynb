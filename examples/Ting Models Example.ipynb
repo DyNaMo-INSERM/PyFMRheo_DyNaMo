{
 "cells": [
  {
   "cell_type": "code",
   "execution_count": 1,
   "id": "0cdfff1b",
   "metadata": {},
   "outputs": [
    {
     "name": "stdout",
     "output_type": "stream",
     "text": [
      "Found existing installation: pyafmreader x.x.x\n",
      "Uninstalling pyafmreader-x.x.x:\n",
      "  Successfully uninstalled pyafmreader-x.x.x\n",
      "Note: you may need to restart the kernel to use updated packages.\n",
      "Collecting git+https://github.com/jlopezalo/pyafmreader.git\n",
      "  Cloning https://github.com/jlopezalo/pyafmreader.git to /private/var/folders/4k/ps22fmxj3gx6vls78t2p63wh0000gn/T/pip-req-build-_47un946\n",
      "  Running command git clone -q https://github.com/jlopezalo/pyafmreader.git /private/var/folders/4k/ps22fmxj3gx6vls78t2p63wh0000gn/T/pip-req-build-_47un946\n",
      "Collecting fasterzip@ git+https://github.com/TkTech/fasterzip.git\n",
      "  Cloning https://github.com/TkTech/fasterzip.git to /private/var/folders/4k/ps22fmxj3gx6vls78t2p63wh0000gn/T/pip-install-z_nu0ugl/fasterzip_fd4a59945e744f6480b4628fc7c1368a\n",
      "  Running command git clone -q https://github.com/TkTech/fasterzip.git /private/var/folders/4k/ps22fmxj3gx6vls78t2p63wh0000gn/T/pip-install-z_nu0ugl/fasterzip_fd4a59945e744f6480b4628fc7c1368a\n",
      "Requirement already satisfied: Cython==0.29.28 in /opt/anaconda3/lib/python3.8/site-packages (from pyafmreader===x.x.x) (0.29.28)\n",
      "Collecting numpy==1.21.6\n",
      "  Using cached numpy-1.21.6-cp38-cp38-macosx_10_9_x86_64.whl (16.9 MB)\n",
      "Building wheels for collected packages: pyafmreader\n",
      "  Building wheel for pyafmreader (setup.py) ... \u001b[?25ldone\n",
      "\u001b[?25h  Created wheel for pyafmreader: filename=pyafmreader-x.x.x-py3-none-any.whl size=22804 sha256=ee30588eeec4f387a1579e1d1844b06a14ff34694ee5c52b1206bb98ec09ac5e\n",
      "  Stored in directory: /private/var/folders/4k/ps22fmxj3gx6vls78t2p63wh0000gn/T/pip-ephem-wheel-cache-10k3dkfr/wheels/2c/b3/db/527ab21e846be46a69f6ee973092a5c8b3d1a47ee176dbc2b9\n",
      "\u001b[33m  WARNING: Built wheel for pyafmreader is invalid: Metadata 1.2 mandates PEP 440 version, but 'x.x.x' is not\u001b[0m\n",
      "Failed to build pyafmreader\n",
      "Installing collected packages: numpy, pyafmreader\n",
      "  Attempting uninstall: numpy\n",
      "    Found existing installation: numpy 1.23.0\n",
      "    Uninstalling numpy-1.23.0:\n",
      "      Successfully uninstalled numpy-1.23.0\n",
      "    Running setup.py install for pyafmreader ... \u001b[?25ldone\n",
      "\u001b[33m  DEPRECATION: pyafmreader was installed using the legacy 'setup.py install' method, because a wheel could not be built for it. A possible replacement is to fix the wheel build issue reported above. You can find discussion regarding this at https://github.com/pypa/pip/issues/8368.\u001b[0m\n",
      "\u001b[31mERROR: pip's dependency resolver does not currently take into account all the packages that are installed. This behaviour is the source of the following dependency conflicts.\n",
      "vampireanalysis 3.4.5 requires numpy==1.17.4, but you have numpy 1.21.6 which is incompatible.\n",
      "vampireanalysis 3.4.5 requires pandas==0.25.3, but you have pandas 1.4.2 which is incompatible.\n",
      "vampireanalysis 3.4.5 requires scipy==1.3.3, but you have scipy 1.8.0 which is incompatible.\n",
      "pyafmrheo 0.0.1 requires numpy>=1.22, but you have numpy 1.21.6 which is incompatible.\n",
      "bokeh 2.3.2 requires pillow>=7.1.0, but you have pillow 6.2.1 which is incompatible.\u001b[0m\n",
      "\u001b[?25hSuccessfully installed numpy-1.21.6 pyafmreader-x.x.x\n",
      "Note: you may need to restart the kernel to use updated packages.\n"
     ]
    }
   ],
   "source": [
    "# Install library for reading JPK File\n",
    "%pip uninstall pyafmreader --yes\n",
    "%pip install git+https://github.com/jlopezalo/pyafmreader.git"
   ]
  },
  {
   "cell_type": "code",
   "execution_count": null,
   "id": "788d38ae",
   "metadata": {},
   "outputs": [
    {
     "name": "stdout",
     "output_type": "stream",
     "text": [
      "Found existing installation: pyafmrheo 0.0.1\n",
      "Uninstalling pyafmrheo-0.0.1:\n",
      "  Successfully uninstalled pyafmrheo-0.0.1\n",
      "Note: you may need to restart the kernel to use updated packages.\n",
      "Collecting git+https://github.com/jlopezalo/pyafmrheo.git\n",
      "  Cloning https://github.com/jlopezalo/pyafmrheo.git to /private/var/folders/4k/ps22fmxj3gx6vls78t2p63wh0000gn/T/pip-req-build-i07p4dhb\n",
      "  Running command git clone -q https://github.com/jlopezalo/pyafmrheo.git /private/var/folders/4k/ps22fmxj3gx6vls78t2p63wh0000gn/T/pip-req-build-i07p4dhb\n"
     ]
    }
   ],
   "source": [
    "# Install library for AFM data Rheology Analysis\n",
    "%pip uninstall pyafmrheo --yes\n",
    "%pip install git+https://github.com/jlopezalo/pyafmrheo.git"
   ]
  },
  {
   "cell_type": "code",
   "execution_count": null,
   "id": "e5925259",
   "metadata": {},
   "outputs": [],
   "source": [
    "# Import libraries we will need\n",
    "import numpy as np\n",
    "import matplotlib.pyplot as plt\n",
    "\n",
    "# Get file reader from library\n",
    "from pyafmreader import loadfile\n",
    "\n",
    "# Get data analysis tools\n",
    "from pyafmrheo.utils.force_curves import *\n",
    "from pyafmrheo.models.hertz import HertzModel\n",
    "from pyafmrheo.models.ting import TingModel"
   ]
  },
  {
   "cell_type": "code",
   "execution_count": null,
   "id": "f5cf5b1a",
   "metadata": {},
   "outputs": [],
   "source": [
    "# Define global variables\n",
    "file_path = '/Users/javierlopez/Documents/Marseille/05-11-2021/E/map-data-2021.11.05-15.41.45.699.jpk-force-map'\n",
    "# Shapes available: paraboloid, pyramid\n",
    "indenter_shape = \"pyramid\"\n",
    "# tip_parameter = 500 * 1e-9 # meters\n",
    "tip_parameter = 35 # degrees\n",
    "# Poisson ratio\n",
    "poisson_ratio = 0.5\n",
    "# If None it will use the deflection sensitivity from the file\n",
    "deflection_sensitivity = None # m/V\n",
    "# If None it will use the spring constant from the file\n",
    "spring_constant = None # N/m\n",
    "# General plotting params\n",
    "plt.rcParams[\"figure.figsize\"] = (10,5)"
   ]
  },
  {
   "cell_type": "code",
   "execution_count": null,
   "id": "921b9a67",
   "metadata": {},
   "outputs": [],
   "source": [
    "file = loadfile(file_path)"
   ]
  },
  {
   "cell_type": "code",
   "execution_count": null,
   "id": "5027f546",
   "metadata": {},
   "outputs": [],
   "source": [
    "filemetadata = file.filemetadata"
   ]
  },
  {
   "cell_type": "code",
   "execution_count": null,
   "id": "062341ea",
   "metadata": {},
   "outputs": [],
   "source": [
    "closed_loop = filemetadata['z_closed_loop_status']\n",
    "file_deflection_sensitivity = filemetadata['original_deflection_sensitivity'] #nm/V\n",
    "file_spring_constant = filemetadata['original_spring_constant'] #N/m\n",
    "height_channel = filemetadata['height_channel_key']\n",
    "\n",
    "if not deflection_sensitivity: deflection_sensitivity = file_deflection_sensitivity / 1e9 #m/V\n",
    "if not spring_constant: spring_constant = file_spring_constant"
   ]
  },
  {
   "cell_type": "code",
   "execution_count": null,
   "id": "973261b0",
   "metadata": {},
   "outputs": [],
   "source": [
    "curve_idx = 0\n",
    "force_curve = file.getcurve(curve_idx)\n",
    "extend_segments = force_curve.extend_segments\n",
    "pause_segments = force_curve.pause_segments\n",
    "modulation_segments = force_curve.modulation_segments\n",
    "retract_segments = force_curve.retract_segments\n",
    "force_curve_segments = force_curve.get_segments()"
   ]
  },
  {
   "cell_type": "code",
   "execution_count": null,
   "id": "de1152b3",
   "metadata": {},
   "outputs": [],
   "source": [
    "t0 = 0\n",
    "for seg_id, segment in force_curve_segments:\n",
    "    height = segment.segment_formated_data[height_channel]\n",
    "    time = segment.segment_formated_data[\"time\"] + t0\n",
    "    plt.plot(time, height)\n",
    "    t0 = time[-1]\n",
    "\n",
    "plt.xlabel(\"Time [s]\")\n",
    "plt.ylabel(\"Height [Meters]\")\n",
    "plt.grid()\n",
    "plt.show()"
   ]
  },
  {
   "cell_type": "code",
   "execution_count": null,
   "id": "223791b7",
   "metadata": {},
   "outputs": [],
   "source": [
    "t0 = 0\n",
    "for seg_id, segment in force_curve_segments:\n",
    "    deflection = segment.segment_formated_data[\"vDeflection\"]\n",
    "    time = segment.segment_formated_data[\"time\"] + t0\n",
    "    plt.plot(time, deflection)\n",
    "    t0 = time[-1]\n",
    "\n",
    "plt.xlabel(\"Time [s]\")\n",
    "plt.ylabel(\"Deflection [Volts]\")\n",
    "plt.grid()\n",
    "plt.show()"
   ]
  },
  {
   "cell_type": "code",
   "execution_count": null,
   "id": "7dbd75fe",
   "metadata": {},
   "outputs": [],
   "source": [
    "for seg_id, segment in force_curve_segments:\n",
    "    height = segment.segment_formated_data[height_channel]\n",
    "    deflection = segment.segment_formated_data[\"vDeflection\"]\n",
    "    plt.plot(height, deflection)\n",
    "\n",
    "plt.xlabel(\"Piezo Height [Meters]\")\n",
    "plt.ylabel(\"vDeflection [Volts]\")\n",
    "plt.grid()\n",
    "plt.show()"
   ]
  },
  {
   "cell_type": "code",
   "execution_count": null,
   "id": "c1f7988f",
   "metadata": {},
   "outputs": [],
   "source": [
    "# Get approach, first extend segment\n",
    "first_exted_seg_id, first_ext_seg = extend_segments[0]\n",
    "first_ext_seg.preprocess_segment(deflection_sensitivity, height_channel)\n",
    "\n",
    "# Get retract, last retract segment\n",
    "last_ret_seg_id, last_ret_seg = retract_segments[-1]\n",
    "last_ret_seg.preprocess_segment(deflection_sensitivity, height_channel)"
   ]
  },
  {
   "cell_type": "code",
   "execution_count": null,
   "id": "61752a0c",
   "metadata": {},
   "outputs": [],
   "source": [
    "# Shift height\n",
    "xzero = last_ret_seg.zheight[-1] # Maximum height\n",
    "first_ext_seg.zheight = xzero - first_ext_seg.zheight\n",
    "last_ret_seg.zheight = xzero - last_ret_seg.zheight"
   ]
  },
  {
   "cell_type": "code",
   "execution_count": null,
   "id": "86616956",
   "metadata": {},
   "outputs": [],
   "source": [
    "app_height = first_ext_seg.zheight\n",
    "app_deflection = first_ext_seg.vdeflection\n",
    "ret_height = last_ret_seg.zheight\n",
    "ret_deflection = last_ret_seg.vdeflection"
   ]
  },
  {
   "cell_type": "code",
   "execution_count": null,
   "id": "38d7dce8",
   "metadata": {},
   "outputs": [],
   "source": [
    "# Find initial PoC, you may get some warnings.\n",
    "poc = get_poc_RoV_method(app_height, app_deflection, win_size=50)\n",
    "print(*poc)"
   ]
  },
  {
   "cell_type": "code",
   "execution_count": null,
   "id": "433d10d0",
   "metadata": {},
   "outputs": [],
   "source": [
    "plt.plot(app_height, app_deflection)\n",
    "plt.axvline(x=poc[0], color='r', linestyle='--')\n",
    "plt.axhline(y=poc[1], color='r', linestyle='--')\n",
    "plt.grid()\n",
    "plt.show()"
   ]
  },
  {
   "cell_type": "code",
   "execution_count": null,
   "id": "8aca684b",
   "metadata": {},
   "outputs": [],
   "source": [
    "# Hertz fit\n",
    "first_ext_seg.get_force_vs_indentation(poc, spring_constant)\n",
    "app_indentation, app_force = first_ext_seg.indentation, first_ext_seg.force\n",
    "\n",
    "hertzmodel = HertzModel(indenter_shape, tip_parameter)\n",
    "hertzmodel.fit(app_indentation, app_force)\n",
    "\n",
    "hertzmodel.fit_report()\n",
    "\n",
    "hertz_E0 = hertzmodel.E0\n",
    "hertz_d0 = hertzmodel.delta0\n",
    "hertz_f0 = hertzmodel.f0\n",
    "\n",
    "print(hertz_E0)\n",
    "\n",
    "# Plot Hertz Fit results\n",
    "plt.plot(app_indentation-hertz_d0, app_force-hertz_f0, label=\"Experimental Data\")\n",
    "plt.plot(app_indentation-hertz_d0, hertzmodel.eval(app_indentation)-hertz_f0, label=\"Model Fit\")\n",
    "plt.xlabel('Indentation [m]')\n",
    "plt.ylabel('Force [N]')\n",
    "plt.legend()\n",
    "plt.grid()\n",
    "plt.show()\n",
    "\n",
    "# Plot residuals\n",
    "plt.plot(app_indentation-hertz_d0, hertzmodel.get_residuals(app_indentation, app_force), \"bo\")\n",
    "plt.xlabel('Indentation [m]')\n",
    "plt.ylabel('Residuals [N]')\n",
    "plt.grid()\n",
    "plt.show()"
   ]
  },
  {
   "cell_type": "code",
   "execution_count": null,
   "id": "baf50725",
   "metadata": {},
   "outputs": [],
   "source": [
    "# Get force vs indentation for all segments\n",
    "poc[0] += hertz_d0\n",
    "\n",
    "# Get indentation and force\n",
    "first_ext_seg.get_force_vs_indentation(poc, spring_constant)\n",
    "app_indentation, app_force, app_time = first_ext_seg.indentation, first_ext_seg.force, first_ext_seg.time\n",
    "last_ret_seg.get_force_vs_indentation(poc, spring_constant)\n",
    "ret_indentation, ret_force, ret_time = last_ret_seg.indentation, last_ret_seg.force, last_ret_seg.time"
   ]
  },
  {
   "cell_type": "code",
   "execution_count": null,
   "id": "063db1f2",
   "metadata": {},
   "outputs": [],
   "source": [
    "indentation = np.r_[app_indentation, ret_indentation]\n",
    "force = np.r_[app_force, ret_force]\n",
    "t0 = app_time[-1]\n",
    "time = np.r_[app_time, ret_time + t0]\n",
    "fit_mask = indentation > (-1 * 1e-6)\n",
    "ind_fit = indentation[fit_mask]\n",
    "force_fit = force[fit_mask]\n",
    "force_fit = force_fit - force_fit[0]\n",
    "time_fit = time[fit_mask]\n",
    "time_fit = time_fit - time_fit[0]\n",
    "tm = time_fit[np.argmax(force_fit)]\n",
    "tc = tm/3\n",
    "idx_tm = np.argmax(force_fit)"
   ]
  },
  {
   "cell_type": "code",
   "execution_count": null,
   "id": "4b737402",
   "metadata": {},
   "outputs": [],
   "source": [
    "plt.plot(ind_fit, force_fit)\n",
    "plt.show()"
   ]
  },
  {
   "cell_type": "code",
   "execution_count": null,
   "id": "85d67eee-699f-4799-aef1-9dec992e33f7",
   "metadata": {},
   "outputs": [],
   "source": [
    "help(TingModel)"
   ]
  },
  {
   "cell_type": "code",
   "execution_count": null,
   "id": "5302b998",
   "metadata": {},
   "outputs": [],
   "source": [
    "ting_model_num = TingModel(indenter_shape, tip_parameter, 'numerical')\n",
    "ting_model_num.betaE_init = 0.2\n",
    "ting_model_num.E0_init = hertz_E0\n",
    "ting_model_num.tc_init = tc\n",
    "ting_model_num.fit(time_fit, force_fit, ind_fit, t0=1, idx_tm=idx_tm, smooth_w=5)\n",
    "ting_model_num.fit_report()\n",
    "tc_num = ting_model_num.tc\n",
    "f0_num = ting_model_num.F0"
   ]
  },
  {
   "cell_type": "code",
   "execution_count": null,
   "id": "0eb931c5",
   "metadata": {},
   "outputs": [],
   "source": [
    "ting_model_analit = TingModel(indenter_shape, tip_parameter, 'analytical')\n",
    "ting_model_analit.betaE_init = 0.2\n",
    "ting_model_num.E0_init = hertz_E0\n",
    "ting_model_analit.tc_init = tc\n",
    "ting_model_analit.fit(time_fit, force_fit, ind_fit, t0=1, idx_tm=idx_tm, smooth_w=5)\n",
    "ting_model_analit.fit_report()\n",
    "tc_analit = ting_model_analit.tc\n",
    "f0_analit = ting_model_analit.F0"
   ]
  },
  {
   "cell_type": "code",
   "execution_count": null,
   "id": "3d501109",
   "metadata": {},
   "outputs": [],
   "source": [
    "plt.plot(ind_fit, force_fit)\n",
    "plt.plot(ind_fit, ting_model_num.eval(time_fit, force_fit, ind_fit, t0=t0, idx_tm=idx_tm, smooth_w=5), '--', label='Ting Numercial best fit')\n",
    "plt.xlabel(\"Indentation [m]\")\n",
    "plt.ylabel(\"Force[N]\")\n",
    "plt.legend()\n",
    "plt.grid()\n",
    "plt.show()"
   ]
  },
  {
   "cell_type": "code",
   "execution_count": null,
   "id": "3e7c6810",
   "metadata": {},
   "outputs": [],
   "source": [
    "idx_tc = (np.abs(time_fit - tc_analit)).argmin()\n",
    "delta0 = ind_fit[idx_tc]\n",
    "plt.plot(ind_fit-delta0, force_fit-f0_analit)\n",
    "plt.plot(ind_fit-delta0, ting_model_analit.eval(time_fit, force_fit, ind_fit, t0=t0, idx_tm=idx_tm, smooth_w=5)-f0_analit, '--', label='Ting Analytical best fit')\n",
    "plt.xlabel(\"Indentation [m]\")\n",
    "plt.ylabel(\"Force[N]\")\n",
    "plt.legend()\n",
    "plt.grid()\n",
    "plt.show()"
   ]
  },
  {
   "cell_type": "code",
   "execution_count": null,
   "id": "9fcff8c1",
   "metadata": {},
   "outputs": [],
   "source": [
    "plt.plot(time_fit-tc_num, force_fit)\n",
    "plt.plot(time_fit-tc_num, ting_model_num.eval(time_fit, force_fit, ind_fit, t0=t0, smooth_w=5), '--', label='Ting Numercial best fit')\n",
    "plt.xlabel(\"Time [s]\")\n",
    "plt.ylabel(\"Force[N]\")\n",
    "plt.legend()\n",
    "plt.grid()\n",
    "plt.show()"
   ]
  },
  {
   "cell_type": "code",
   "execution_count": null,
   "id": "8978ab37-03f1-4bc2-bfdb-58813629adbb",
   "metadata": {},
   "outputs": [],
   "source": [
    "plt.plot(time_fit-tc_analit, force_fit)\n",
    "plt.plot(time_fit-tc_analit, ting_model_analit.eval(time_fit, force_fit, ind_fit, t0=t0, smooth_w=5), '--', label='Ting Analytical best fit')\n",
    "plt.xlabel(\"Time [s]\")\n",
    "plt.ylabel(\"Force[N]\")\n",
    "plt.legend()\n",
    "plt.grid()\n",
    "plt.show()"
   ]
  },
  {
   "cell_type": "code",
   "execution_count": null,
   "id": "cfeb2c80",
   "metadata": {},
   "outputs": [],
   "source": []
  },
  {
   "cell_type": "code",
   "execution_count": null,
   "id": "6d104a5b",
   "metadata": {},
   "outputs": [],
   "source": []
  },
  {
   "cell_type": "code",
   "execution_count": null,
   "id": "57908035",
   "metadata": {},
   "outputs": [],
   "source": []
  }
 ],
 "metadata": {
  "kernelspec": {
   "display_name": "Python 3",
   "language": "python",
   "name": "python3"
  },
  "language_info": {
   "codemirror_mode": {
    "name": "ipython",
    "version": 3
   },
   "file_extension": ".py",
   "mimetype": "text/x-python",
   "name": "python",
   "nbconvert_exporter": "python",
   "pygments_lexer": "ipython3",
   "version": "3.8.8"
  }
 },
 "nbformat": 4,
 "nbformat_minor": 5
}
