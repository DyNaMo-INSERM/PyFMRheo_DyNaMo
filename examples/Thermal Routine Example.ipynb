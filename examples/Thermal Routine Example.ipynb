{
 "cells": [
  {
   "cell_type": "code",
   "execution_count": 1,
   "id": "ec7d0838-2eda-4f25-91a4-fb284aeca6ca",
   "metadata": {},
   "outputs": [
    {
     "name": "stdout",
     "output_type": "stream",
     "text": [
      "Found existing installation: pyafmreader x.x.x\n",
      "Uninstalling pyafmreader-x.x.x:\n",
      "  Successfully uninstalled pyafmreader-x.x.x\n",
      "Note: you may need to restart the kernel to use updated packages.\n",
      "Requirement already satisfied: Cython in /Library/Frameworks/Python.framework/Versions/3.10/lib/python3.10/site-packages (0.29.32)\n",
      "\n",
      "\u001b[1m[\u001b[0m\u001b[34;49mnotice\u001b[0m\u001b[1;39;49m]\u001b[0m\u001b[39;49m A new release of pip available: \u001b[0m\u001b[31;49m22.2.2\u001b[0m\u001b[39;49m -> \u001b[0m\u001b[32;49m22.3.1\u001b[0m\n",
      "\u001b[1m[\u001b[0m\u001b[34;49mnotice\u001b[0m\u001b[1;39;49m]\u001b[0m\u001b[39;49m To update, run: \u001b[0m\u001b[32;49mpip install --upgrade pip\u001b[0m\n",
      "Note: you may need to restart the kernel to use updated packages.\n",
      "Collecting git+https://github.com/jlopezalo/pyafmreader.git\n",
      "  Cloning https://github.com/jlopezalo/pyafmreader.git to /private/var/folders/4k/ps22fmxj3gx6vls78t2p63wh0000gn/T/pip-req-build-89evgt87\n",
      "  Running command git clone --filter=blob:none --quiet https://github.com/jlopezalo/pyafmreader.git /private/var/folders/4k/ps22fmxj3gx6vls78t2p63wh0000gn/T/pip-req-build-89evgt87\n",
      "  Resolved https://github.com/jlopezalo/pyafmreader.git to commit 5059bdda1b8287c5358bed04bf8bef8566fd3160\n",
      "  Preparing metadata (setup.py) ... \u001b[?25ldone\n",
      "\u001b[?25hCollecting fasterzip@ git+https://github.com/TkTech/fasterzip.git\n",
      "  Cloning https://github.com/TkTech/fasterzip.git to /private/var/folders/4k/ps22fmxj3gx6vls78t2p63wh0000gn/T/pip-install-p8vedzr7/fasterzip_b1362721b1d1416497f49861a96f68a9\n",
      "  Running command git clone --filter=blob:none --quiet https://github.com/TkTech/fasterzip.git /private/var/folders/4k/ps22fmxj3gx6vls78t2p63wh0000gn/T/pip-install-p8vedzr7/fasterzip_b1362721b1d1416497f49861a96f68a9\n",
      "  Resolved https://github.com/TkTech/fasterzip.git to commit 09e2cae7821f96f4ba8f6d4122e1045352a656b4\n",
      "  Preparing metadata (setup.py) ... \u001b[?25ldone\n",
      "\u001b[?25hRequirement already satisfied: Cython>=0.29.28 in /Library/Frameworks/Python.framework/Versions/3.10/lib/python3.10/site-packages (from pyafmreader===x.x.x) (0.29.32)\n",
      "Requirement already satisfied: numpy in /Library/Frameworks/Python.framework/Versions/3.10/lib/python3.10/site-packages (from pyafmreader===x.x.x) (1.23.4)\n",
      "Using legacy 'setup.py install' for pyafmreader, since package 'wheel' is not installed.\n",
      "Installing collected packages: pyafmreader\n",
      "  Running setup.py install for pyafmreader ... \u001b[?25ldone\n",
      "\u001b[?25hSuccessfully installed pyafmreader-x.x.x\n",
      "\n",
      "\u001b[1m[\u001b[0m\u001b[34;49mnotice\u001b[0m\u001b[1;39;49m]\u001b[0m\u001b[39;49m A new release of pip available: \u001b[0m\u001b[31;49m22.2.2\u001b[0m\u001b[39;49m -> \u001b[0m\u001b[32;49m22.3.1\u001b[0m\n",
      "\u001b[1m[\u001b[0m\u001b[34;49mnotice\u001b[0m\u001b[1;39;49m]\u001b[0m\u001b[39;49m To update, run: \u001b[0m\u001b[32;49mpip install --upgrade pip\u001b[0m\n",
      "Note: you may need to restart the kernel to use updated packages.\n"
     ]
    }
   ],
   "source": [
    "# Install library for reading JPK File\n",
    "%pip uninstall pyafmreader --yes\n",
    "%pip install Cython\n",
    "%pip install git+https://github.com/jlopezalo/pyafmreader.git"
   ]
  },
  {
   "cell_type": "code",
   "execution_count": 2,
   "id": "3e7f2054-c2eb-4833-81a7-1df57a3f4e9f",
   "metadata": {},
   "outputs": [
    {
     "name": "stdout",
     "output_type": "stream",
     "text": [
      "Found existing installation: pyafmrheo 0.0.1\n",
      "Uninstalling pyafmrheo-0.0.1:\n",
      "  Successfully uninstalled pyafmrheo-0.0.1\n",
      "Note: you may need to restart the kernel to use updated packages.\n",
      "Collecting git+https://github.com/jlopezalo/pyafmrheo.git\n",
      "  Cloning https://github.com/jlopezalo/pyafmrheo.git to /private/var/folders/4k/ps22fmxj3gx6vls78t2p63wh0000gn/T/pip-req-build-08_ncdsj\n",
      "  Running command git clone --filter=blob:none --quiet https://github.com/jlopezalo/pyafmrheo.git /private/var/folders/4k/ps22fmxj3gx6vls78t2p63wh0000gn/T/pip-req-build-08_ncdsj\n",
      "  Resolved https://github.com/jlopezalo/pyafmrheo.git to commit 91fc5d5f0fbb583af343a7ba3bbb5e8fe2474d68\n",
      "  Preparing metadata (setup.py) ... \u001b[?25ldone\n",
      "\u001b[?25hRequirement already satisfied: numpy in /Library/Frameworks/Python.framework/Versions/3.10/lib/python3.10/site-packages (from pyafmrheo==0.0.1) (1.23.4)\n",
      "Requirement already satisfied: pandas in /Library/Frameworks/Python.framework/Versions/3.10/lib/python3.10/site-packages (from pyafmrheo==0.0.1) (1.5.0)\n",
      "Requirement already satisfied: scipy in /Library/Frameworks/Python.framework/Versions/3.10/lib/python3.10/site-packages (from pyafmrheo==0.0.1) (1.9.2)\n",
      "Requirement already satisfied: python-dateutil>=2.8.1 in /Library/Frameworks/Python.framework/Versions/3.10/lib/python3.10/site-packages (from pandas->pyafmrheo==0.0.1) (2.8.2)\n",
      "Requirement already satisfied: pytz>=2020.1 in /Library/Frameworks/Python.framework/Versions/3.10/lib/python3.10/site-packages (from pandas->pyafmrheo==0.0.1) (2022.4)\n",
      "Requirement already satisfied: six>=1.5 in /Library/Frameworks/Python.framework/Versions/3.10/lib/python3.10/site-packages (from python-dateutil>=2.8.1->pandas->pyafmrheo==0.0.1) (1.16.0)\n",
      "Using legacy 'setup.py install' for pyafmrheo, since package 'wheel' is not installed.\n",
      "Installing collected packages: pyafmrheo\n",
      "  Running setup.py install for pyafmrheo ... \u001b[?25ldone\n",
      "\u001b[?25hSuccessfully installed pyafmrheo-0.0.1\n",
      "\n",
      "\u001b[1m[\u001b[0m\u001b[34;49mnotice\u001b[0m\u001b[1;39;49m]\u001b[0m\u001b[39;49m A new release of pip available: \u001b[0m\u001b[31;49m22.2.2\u001b[0m\u001b[39;49m -> \u001b[0m\u001b[32;49m22.3.1\u001b[0m\n",
      "\u001b[1m[\u001b[0m\u001b[34;49mnotice\u001b[0m\u001b[1;39;49m]\u001b[0m\u001b[39;49m To update, run: \u001b[0m\u001b[32;49mpip install --upgrade pip\u001b[0m\n",
      "Note: you may need to restart the kernel to use updated packages.\n"
     ]
    }
   ],
   "source": [
    "# Install library for AFM data Rheology Analysis\n",
    "%pip uninstall pyafmrheo --yes\n",
    "%pip install git+https://github.com/jlopezalo/pyafmrheo.git"
   ]
  },
  {
   "cell_type": "code",
   "execution_count": 3,
   "id": "2b300249-f533-4619-bf8d-74fb3091bddb",
   "metadata": {},
   "outputs": [],
   "source": [
    "# Import libraries we will need\n",
    "import numpy as np\n",
    "import os\n",
    "import re\n",
    "import pandas as pd\n",
    "import matplotlib.pyplot as plt\n",
    "from scipy.special import kv\n",
    "\n",
    "# Get file reader from library\n",
    "from pyafmreader import loadfile\n",
    "from pyafmrheo.routines.NonContactCal import doNonContactCal"
   ]
  },
  {
   "cell_type": "code",
   "execution_count": 4,
   "id": "45dffb95-59ce-448e-9ad7-a90bd634ac2f",
   "metadata": {},
   "outputs": [],
   "source": [
    "path_ar = '/Users/javierlopez/Documents/Datasets/09-12-2021/AIR-thermal-noise-data_vDeflection_2021.12.02-15.30.03.tnd'\n",
    "path_lq = '/Users/javierlopez/Documents/Datasets/09-12-2021/LIQUID-thermal-noise-data_vDeflection_2021.12.09-11.33.23.tnd'"
   ]
  },
  {
   "cell_type": "code",
   "execution_count": null,
   "id": "85b756f4-81f5-46dc-ae15-99249caea925",
   "metadata": {},
   "outputs": [],
   "source": [
    "thermal_file_ar = loadfile(path_ar)\n",
    "thermal_file_lq = loadfile(path_lq)"
   ]
  },
  {
   "cell_type": "code",
   "execution_count": 5,
   "id": "ef223451-2fe6-42f7-b3a9-66700febe1ce",
   "metadata": {},
   "outputs": [],
   "source": [
    "ampl_raw_ar = thermal_file_ar[0]\n",
    "ampl_ar = thermal_file_ar[1]\n",
    "freq_ar = thermal_file_ar[2]\n",
    "params_ar = thermal_file_ar[4]"
   ]
  },
  {
   "cell_type": "code",
   "execution_count": null,
   "id": "a6be71bb-c5bf-4e0b-90e7-5d96c6aca56a",
   "metadata": {},
   "outputs": [],
   "source": [
    "params_ar"
   ]
  },
  {
   "cell_type": "code",
   "execution_count": 6,
   "id": "1f156ae2-0f66-4b97-acd8-4212c66b32a7",
   "metadata": {},
   "outputs": [],
   "source": [
    "ampl_raw_lq = thermal_file_lq[0]\n",
    "ampl_lq = thermal_file_lq[1]\n",
    "freq_lq = thermal_file_lq[2]\n",
    "params_lq = thermal_file_lq[4]"
   ]
  },
  {
   "cell_type": "code",
   "execution_count": 7,
   "id": "e68a14f2-e74d-46a8-8f42-b79d3721e5e5",
   "metadata": {},
   "outputs": [
    {
     "data": {
      "text/plain": [
       "{'sensitivity': 1.61772e-08,\n",
       " 'spring constant': 0.098,\n",
       " 'parameter.f': 22990.0,\n",
       " 'parameter.Q': '1.827',\n",
       " 'parameter.A': 4.679e-05,\n",
       " 'parameter.noise': 122.5,\n",
       " 'parameter.Corrected K': '2.487×10⁻¹⁷',\n",
       " 'parameter.Corrected Vertical K': '2.565×10⁻¹⁷',\n",
       " 'settings.method': 'Contact-free',\n",
       " 'settings.temperature': 25.0,\n",
       " 'settings.environment': 'Water',\n",
       " 'settings.environment density': 997000.0,\n",
       " 'settings.environment viscosity': 0.00089,\n",
       " 'cantilever.name': 'PFQNM-LC',\n",
       " 'cantilever.width': 4.5e-06,\n",
       " 'cantilever.length': 5.4e-05,\n",
       " 'cantilever.angle': '10° + 0.0 °',\n",
       " 'cantilever.correction factor': '0.9000',\n",
       " 'Channels': \"'Frequency' 'Vertical Deflection' 'average' 'fit-data' \",\n",
       " 'Units': \"'Hz' 'V²/Hz' 'V²/Hz' 'V²/Hz'\"}"
      ]
     },
     "execution_count": 7,
     "metadata": {},
     "output_type": "execute_result"
    }
   ],
   "source": [
    "params_lq"
   ]
  },
  {
   "cell_type": "code",
   "execution_count": 21,
   "id": "ae4e3765-09b5-48ec-bc35-dbdf2be8e557",
   "metadata": {},
   "outputs": [
    {
     "data": {
      "image/png": "[encoded data removed]",
      "text/plain": [
       "<Figure size 640x480 with 1 Axes>"
      ]
     },
     "metadata": {},
     "output_type": "display_data"
    }
   ],
   "source": [
    "# plt.plot(freq, ampl)\n",
    "plt.plot(freq_ar, ampl_ar,'-', label='In-Air Thermal')\n",
    "plt.plot(freq_lq, ampl_lq, '--', label='In-Liquid Thermal')\n",
    "plt.xscale('log')\n",
    "plt.yscale('log')\n",
    "plt.xlabel('Frequency [Hz]')\n",
    "plt.ylabel('Amplitude [m^2/Hz]')\n",
    "plt.legend()\n",
    "plt.show()"
   ]
  },
  {
   "cell_type": "code",
   "execution_count": 28,
   "id": "26732d08-2cbb-4ea4-aefb-27acd2810307",
   "metadata": {},
   "outputs": [
    {
     "name": "stdout",
     "output_type": "stream",
     "text": [
      "In-Air Results: 0.038859219449631284 nan 2.0753784679228917e-08 2.0753784679228913e-08\n",
      "In-Liquid Results: 0.02719044104887647 nan 2.701072746515229e-08 2.701072746515229e-08\n"
     ]
    }
   ],
   "source": [
    "cantiparams = {}\n",
    "cantiparams['cantiWidth'] = params_ar['cantilever.width']\n",
    "cantiparams['cantiLen'] = params_ar['cantilever.length']\n",
    "cantiparams['cantiWidthLegs'] = 0\n",
    "cantiparams['cantType'] = cantType \n",
    "\n",
    "inair_res = doNonContactCal(\n",
    "freq_ar, ampl_raw_ar, cantiparams, 'air', Tc, RH, k0=None, CorrFact=0.9,\n",
    "initSHOparams=None, Beta=None, Chi=None, invOLSscaling=None,\n",
    "minfreq=minfreq, maxfreq=maxfreq, GCIusername=\"\", GCIpassword=\"\", selectedCantCode=\"\"\n",
    ")\n",
    "\n",
    "inliquid_res = doNonContactCal(\n",
    "freq_lq, ampl_raw_lq, cantiparams, 'water', Tc, RH, k0=None, CorrFact=0.9,\n",
    "initSHOparams=None, Beta=None, Chi=None, invOLSscaling=None,\n",
    "minfreq=minfreq, maxfreq=maxfreq, GCIusername=\"\", GCIpassword=\"\", selectedCantCode=\"\"\n",
    ")\n",
    "\n",
    "print('In-Air Results:', *inair_res)\n",
    "print('In-Liquid Results:', *inliquid_res)"
   ]
  },
  {
   "cell_type": "code",
   "execution_count": null,
   "id": "14bd0d3c-c21e-4186-bd34-d403ded86d39",
   "metadata": {},
   "outputs": [],
   "source": []
  }
 ],
 "metadata": {
  "kernelspec": {
   "display_name": "Python 3 (ipykernel)",
   "language": "python",
   "name": "python3"
  },
  "language_info": {
   "codemirror_mode": {
    "name": "ipython",
    "version": 3
   },
   "file_extension": ".py",
   "mimetype": "text/x-python",
   "name": "python",
   "nbconvert_exporter": "python",
   "pygments_lexer": "ipython3",
   "version": "3.10.6"
  }
 },
 "nbformat": 4,
 "nbformat_minor": 5
}
