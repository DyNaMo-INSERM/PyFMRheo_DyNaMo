{
 "cells": [
  {
   "cell_type": "code",
   "execution_count": 1,
   "id": "72c5ba81-bbe2-49bb-bea2-4ec1cd595de6",
   "metadata": {
    "tags": []
   },
   "outputs": [],
   "source": [
    "%%capture\n",
    "# Setup: Install packages we will need in this notebook\n",
    "%pip install pyfmrheo\n",
    "%pip install matplotlib"
   ]
  },
  {
   "cell_type": "code",
   "execution_count": 2,
   "id": "55049b8b-f751-4a84-b1b6-f7cd5608ccee",
   "metadata": {
    "tags": []
   },
   "outputs": [],
   "source": [
    "from pyfmreader import loadfile\n",
    "from pyfmrheo.routines.HertzFit import doHertzFit\n",
    "import matplotlib.pyplot as plt"
   ]
  },
  {
   "cell_type": "code",
   "execution_count": 3,
   "id": "bfec9c67-dcb0-4113-8de5-50983b06ec07",
   "metadata": {},
   "outputs": [],
   "source": [
    "# Define global parameters for plotting\n",
    "plt.rcParams[\"figure.figsize\"] = (10,5)"
   ]
  },
  {
   "cell_type": "code",
   "execution_count": 4,
   "id": "883458ca-3123-4f5d-9dad-b0fd1f9454e3",
   "metadata": {
    "tags": []
   },
   "outputs": [],
   "source": [
    "# Define path of file to process\n",
    "file_path = r\"../tests/testfiles/map-data-2022.10.29-12.27.34.564.jpk-force-map\""
   ]
  },
  {
   "cell_type": "code",
   "execution_count": 5,
   "id": "6654657a-3d65-48f6-b549-5540320ada38",
   "metadata": {
    "tags": []
   },
   "outputs": [
    {
     "name": "stdout",
     "output_type": "stream",
     "text": [
      "jpk-force-map\n"
     ]
    }
   ],
   "source": [
    "# Load File\n",
    "file = loadfile(file_path)\n",
    "filemetadata = file.filemetadata\n",
    "print(filemetadata['file_type'])"
   ]
  },
  {
   "cell_type": "code",
   "execution_count": 6,
   "id": "7fc84313-68cd-43c7-a9eb-7029e050a160",
   "metadata": {
    "tags": []
   },
   "outputs": [
    {
     "name": "stdout",
     "output_type": "stream",
     "text": [
      "Closed loop: false\n",
      "Height channel: measuredHeight\n",
      "Deflection Sens.: 1.4678505383171551e-08 m/V\n",
      "Spring Constant: 0.191 N/m\n"
     ]
    }
   ],
   "source": [
    "# Get some of the file metadata\n",
    "closed_loop = filemetadata['z_closed_loop']\n",
    "file_deflection_sensitivity = filemetadata['defl_sens_nmbyV'] #nm/V\n",
    "file_spring_constant = filemetadata['spring_const_Nbym'] #N/m\n",
    "height_channel = filemetadata['height_channel_key']\n",
    "\n",
    "deflection_sensitivity = file_deflection_sensitivity / 1e9 #m/V\n",
    "spring_constant = file_spring_constant\n",
    "\n",
    "print(f\"Closed loop: {closed_loop}\")\n",
    "print(f\"Height channel: {height_channel}\")\n",
    "print(f\"Deflection Sens.: {deflection_sensitivity} m/V\")\n",
    "print(f\"Spring Constant: {spring_constant} N/m\")"
   ]
  },
  {
   "cell_type": "code",
   "execution_count": 7,
   "id": "f8e1fba4-8ecf-489c-90bb-ad7c5991fe93",
   "metadata": {
    "tags": []
   },
   "outputs": [],
   "source": [
    "# Define parameters to perform the HertzFit\n",
    "maxnoncontact = 1e-6 #um\n",
    "pts_downsample = 300\n",
    "\n",
    "param_dict = {\n",
    "    'height_channel': 'measuredHeight', # Channel where to find the height data\n",
    "    'def_sens': deflection_sensitivity, # Deflection sensitivity in m/V\n",
    "    'k': spring_constant,               # Spring constant in N/m\n",
    "    'contact_model': 'paraboloid',      # Geometry of the indenter: paraboloidal, conical, pyramidal\n",
    "    'tip_param': 5e-06,                 # Tip raidus in meters or tip angle in degrees\n",
    "    'curve_seg': 'extend',              # Segement to perform the fit: extend or retract\n",
    "    'correct_tilt': False,              # Perform tilt correction\n",
    "    'tilt_min_offset': 1e-08,           # Maximum range where to perform the tilt correction in meters\n",
    "    'tilt_max_offset': 1e-06,           # Minimum range where to perform the tilt correction in meters\n",
    "    'poisson': 0.5,                     # Poisson's ratio\n",
    "    'poc_method': 'RoV',                # Method to find the contact point: RoV or RegulaFalsi\n",
    "    'poc_win': 4e-07,                   # Window size for the RoV method\n",
    "    'max_ind': 0.0,                     # Maximum indentation range for fit in meters\n",
    "    'min_ind': 0.0,                     # Minimum indentation range for fit in meters\n",
    "    'max_force': 0.0,                   # Maximum force range for fit in Newtons\n",
    "    'min_force': 0.0,                   # Minimum force range for fit in Newtons\n",
    "    'fit_range_type': 'full',           # Fit data range: full, indentation or force\n",
    "    'd0': 0.0,                          # Initial point of contact\n",
    "    'slope': 0.0,                       # Initial slope\n",
    "    'auto_init_E0': True,               # Estimate automatically the initial value of the Young's Modulus\n",
    "    'E0': 1000,                         # Initial Young's Modulus value\n",
    "    'f0': 0.0,                          # Initial F0 value\n",
    "    'contact_offset': maxnoncontact,    # Baseline offset for the Hertz Fit\n",
    "    'fit_line': False,                  # Fit line to the baseline\n",
    "    'downsample_flag': True,            # Downsample the signal for Hertz Fit\n",
    "    'pts_downsample': pts_downsample,   # Number of points to downsample\n",
    "    'offset_type':'percentage',         # How to correct for baseline offset: percentage or value\n",
    "    'max_offset':.3,                    # Max percentage to compute offset\n",
    "    'min_offset':0                      # Min percentage to compute offset\n",
    "}"
   ]
  },
  {
   "cell_type": "code",
   "execution_count": 8,
   "id": "a4b6cbb9-7afb-422c-b3ca-67170f2520e7",
   "metadata": {
    "tags": []
   },
   "outputs": [],
   "source": [
    "# Select curve by index\n",
    "curve_idx = 0\n",
    "force_curve = file.getcurve(curve_idx)\n",
    "# Preprocess curve\n",
    "force_curve.preprocess_force_curve(param_dict['def_sens'], param_dict['height_channel'])\n",
    "# JPK files require the height signal to be shifted\n",
    "if filemetadata['file_type'] in ('jpk-force', 'jpk-force-map', 'jpk-qi-data'):\n",
    "    force_curve.shift_height()"
   ]
  },
  {
   "cell_type": "code",
   "execution_count": 9,
   "id": "4723da0b-f783-4de5-8d23-bebb357807ad",
   "metadata": {
    "tags": []
   },
   "outputs": [
    {
     "name": "stderr",
     "output_type": "stream",
     "text": [
      "C:\\Users\\javier.lopez\\AppData\\Local\\Programs\\Python\\Python39\\lib\\site-packages\\pyfmrheo\\models\\hertz.py:161: RuntimeWarning: divide by zero encountered in divide\n",
      "  a = (self.get_residuals(indentation, force, sample_height)**2/force)\n"
     ]
    }
   ],
   "source": [
    "# Run fit\n",
    "hertz_result = doHertzFit(force_curve, param_dict)"
   ]
  },
  {
   "cell_type": "code",
   "execution_count": 10,
   "id": "53c1e994-9efe-45fb-a325-5d3dbe691e2c",
   "metadata": {
    "tags": []
   },
   "outputs": [
    {
     "name": "stdout",
     "output_type": "stream",
     "text": [
      "\n",
      "        # Fit parameters\n",
      "        Indenter shape: paraboloid\n",
      "\n",
      "        Tip paraneter: 5e-06\n",
      "\n",
      "        BEC Model: None\n",
      "\n",
      "        Number of free parameters: 3\n",
      "\n",
      "        delta0: 5.7433703005166515e-08\n",
      "\n",
      "        E0: 515.6295844637284\n",
      "\n",
      "        f0: -2.8638846531505904e-11\n",
      "\n",
      "        slope: None\n",
      "\n",
      "        # Fit metrics\n",
      "        MAE: 6.5215577478258866e-21\n",
      "\n",
      "        MSE: 1.0310876071267232e-21\n",
      "\n",
      "        RMSE: 3.211055289350719e-11\n",
      "\n",
      "        Rsq: 0.952943407302014\n",
      "\n",
      "        Chisq: 5.548915427112749e-09\n",
      "\n",
      "        RedChisq: 1.8496384757042495e-09\n",
      "\n",
      "        \n"
     ]
    }
   ],
   "source": [
    "# Check Hertz Result values\n",
    "hertz_result.fit_report()"
   ]
  },
  {
   "cell_type": "code",
   "execution_count": 11,
   "id": "363dbfd8-e59c-4d90-b23b-87f8e3e40809",
   "metadata": {
    "tags": []
   },
   "outputs": [],
   "source": [
    "# Get parameters from fit\n",
    "d0 = hertz_result.delta0\n",
    "f0 = hertz_result.f0\n",
    "\n",
    "# Prepare data for plotting\n",
    "segs = force_curve.get_segments()\n",
    "ext_data = segs[0][1]\n",
    "indentation = ext_data.indentation\n",
    "force = ext_data.force\n",
    "fit_mask = indentation > (-1 * maxnoncontact)\n",
    "ind_fit = indentation[fit_mask]\n",
    "force_fit = force[fit_mask]\n",
    "force_fit = force_fit - force_fit[0]\n",
    "downfactor= len(ext_data.indentation) // pts_downsample\n",
    "idxDown = list(range(0, len(ind_fit), 1))"
   ]
  },
  {
   "cell_type": "code",
   "execution_count": 12,
   "id": "af4f088d-0328-48d6-9bfd-02069cbb86db",
   "metadata": {
    "tags": []
   },
   "outputs": [
    {
     "data": {
      "image/png": "[encoded data removed]",
      "text/plain": [
       "<Figure size 1000x500 with 1 Axes>"
      ]
     },
     "metadata": {},
     "output_type": "display_data"
    }
   ],
   "source": [
    "# Plot Hertz Fit\n",
    "plt.plot(\n",
    "    (ind_fit[idxDown] - d0) * 1e9,\n",
    "    force_fit[idxDown] * 1e12,\n",
    "    color='#E72E38',\n",
    "    linewidth=3,\n",
    "    label='Experimental Data'\n",
    ")\n",
    "\n",
    "plt.plot(\n",
    "    (ind_fit[idxDown] - d0) * 1e9,\n",
    "    (hertz_result.eval(\n",
    "        ind_fit[idxDown]\n",
    "        ) - f0) * 1e12,\n",
    "    color='#2B3E51',\n",
    "    linewidth=2.5,\n",
    "    linestyle='--',\n",
    "    label='Viscoeelastic Model Fit'\n",
    ")\n",
    "plt.xlabel('Indentation [nm]', fontsize = 15)\n",
    "plt.ylabel('Force [pN]', fontsize = 15)\n",
    "plt.legend()\n",
    "plt.show()"
   ]
  }
 ],
 "metadata": {
  "kernelspec": {
   "display_name": "Python 3 (ipykernel)",
   "language": "python",
   "name": "python3"
  },
  "language_info": {
   "codemirror_mode": {
    "name": "ipython",
    "version": 3
   },
   "file_extension": ".py",
   "mimetype": "text/x-python",
   "name": "python",
   "nbconvert_exporter": "python",
   "pygments_lexer": "ipython3",
   "version": "3.9.13"
  }
 },
 "nbformat": 4,
 "nbformat_minor": 5
}
