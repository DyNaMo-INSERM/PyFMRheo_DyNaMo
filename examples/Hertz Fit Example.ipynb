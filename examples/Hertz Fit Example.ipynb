{
 "cells": [
  {
   "cell_type": "code",
   "execution_count": 1,
   "metadata": {},
   "outputs": [
    {
     "name": "stdout",
     "output_type": "stream",
     "text": [
      "Found existing installation: pyafmreader x.x.x\n",
      "Uninstalling pyafmreader-x.x.x:\n",
      "  Successfully uninstalled pyafmreader-x.x.x\n",
      "Note: you may need to restart the kernel to use updated packages.\n",
      "Collecting git+https://github.com/jlopezalo/pyafmreader.git\n",
      "  Cloning https://github.com/jlopezalo/pyafmreader.git to /private/var/folders/4k/ps22fmxj3gx6vls78t2p63wh0000gn/T/pip-req-build-qhb9mu5n\n",
      "  Running command git clone -q https://github.com/jlopezalo/pyafmreader.git /private/var/folders/4k/ps22fmxj3gx6vls78t2p63wh0000gn/T/pip-req-build-qhb9mu5n\n",
      "Collecting fasterzip@ git+https://github.com/TkTech/fasterzip.git\n",
      "  Cloning https://github.com/TkTech/fasterzip.git to /private/var/folders/4k/ps22fmxj3gx6vls78t2p63wh0000gn/T/pip-install-ud135agy/fasterzip_de6a558eb89042f798d313e4378d5247\n",
      "  Running command git clone -q https://github.com/TkTech/fasterzip.git /private/var/folders/4k/ps22fmxj3gx6vls78t2p63wh0000gn/T/pip-install-ud135agy/fasterzip_de6a558eb89042f798d313e4378d5247\n",
      "Requirement already satisfied: Cython>=0.29.28 in /Library/Frameworks/Python.framework/Versions/3.7/lib/python3.7/site-packages (from pyafmreader===x.x.x) (0.29.28)\n",
      "Requirement already satisfied: numpy in /Library/Frameworks/Python.framework/Versions/3.7/lib/python3.7/site-packages (from pyafmreader===x.x.x) (1.21.6)\n",
      "Building wheels for collected packages: pyafmreader\n",
      "  Building wheel for pyafmreader (setup.py) ... \u001b[?25ldone\n",
      "\u001b[?25h  Created wheel for pyafmreader: filename=pyafmreader-x.x.x-py3-none-any.whl size=26227 sha256=363af4a80a678ce822d2c52ccbfb9fd77ddb83dc1a367d0b94447599045758b9\n",
      "  Stored in directory: /private/var/folders/4k/ps22fmxj3gx6vls78t2p63wh0000gn/T/pip-ephem-wheel-cache-m3de3pph/wheels/72/d2/90/28c19c43a1469f295589665c30a6b7af31bd91116cde73356f\n",
      "\u001b[33m  WARNING: Built wheel for pyafmreader is invalid: Metadata 1.2 mandates PEP 440 version, but 'x.x.x' is not\u001b[0m\n",
      "Failed to build pyafmreader\n",
      "Installing collected packages: pyafmreader\n",
      "    Running setup.py install for pyafmreader ... \u001b[?25ldone\n",
      "\u001b[33m  DEPRECATION: pyafmreader was installed using the legacy 'setup.py install' method, because a wheel could not be built for it. A possible replacement is to fix the wheel build issue reported above. You can find discussion regarding this at https://github.com/pypa/pip/issues/8368.\u001b[0m\n",
      "\u001b[?25hSuccessfully installed pyafmreader-x.x.x\n",
      "\u001b[33mWARNING: You are using pip version 21.0.1; however, version 22.2.2 is available.\n",
      "You should consider upgrading via the '/Library/Frameworks/Python.framework/Versions/3.7/bin/python3.7 -m pip install --upgrade pip' command.\u001b[0m\n",
      "Note: you may need to restart the kernel to use updated packages.\n"
     ]
    }
   ],
   "source": [
    "# Install library for reading JPK File\n",
    "%pip uninstall pyafmreader --yes\n",
    "%pip install git+https://github.com/jlopezalo/pyafmreader.git"
   ]
  },
  {
   "cell_type": "code",
   "execution_count": null,
   "metadata": {},
   "outputs": [
    {
     "name": "stdout",
     "output_type": "stream",
     "text": [
      "Found existing installation: pyafmrheo 0.0.1\n",
      "Uninstalling pyafmrheo-0.0.1:\n",
      "  Successfully uninstalled pyafmrheo-0.0.1\n",
      "Note: you may need to restart the kernel to use updated packages.\n",
      "Collecting git+https://github.com/jlopezalo/pyafmrheo.git\n",
      "  Cloning https://github.com/jlopezalo/pyafmrheo.git to /private/var/folders/4k/ps22fmxj3gx6vls78t2p63wh0000gn/T/pip-req-build-l1z5thvy\n",
      "  Running command git clone -q https://github.com/jlopezalo/pyafmrheo.git /private/var/folders/4k/ps22fmxj3gx6vls78t2p63wh0000gn/T/pip-req-build-l1z5thvy\n"
     ]
    }
   ],
   "source": [
    "# Install library for AFM data Rheology Analysis\n",
    "%pip uninstall pyafmrheo --yes\n",
    "%pip install git+https://github.com/jlopezalo/pyafmrheo.git"
   ]
  },
  {
   "cell_type": "code",
   "execution_count": null,
   "metadata": {},
   "outputs": [],
   "source": [
    "# Import libraries we will need\n",
    "import numpy as np\n",
    "import pandas as pd\n",
    "import matplotlib.pyplot as plt\n",
    "from scipy.signal import detrend\n",
    "\n",
    "# Get file reader from library\n",
    "from pyafmreader import loadfile\n",
    "\n",
    "# Get data analysis tools\n",
    "from pyafmrheo.utils.force_curves import *\n",
    "from pyafmrheo.models.hertz import HertzModel"
   ]
  },
  {
   "cell_type": "code",
   "execution_count": null,
   "metadata": {},
   "outputs": [],
   "source": [
    "# Define global variables\n",
    "file_path = '/Users/javierlopez/Documents/Datasets/05-11-2021/E/map-data-2021.11.05-15.41.45.699.jpk-force-map'\n",
    "# Shapes available: paraboloid, pyramid\n",
    "indenter_shape = \"pyramid\"\n",
    "# tip_parameter = 500 * 1e-9 # meters\n",
    "tip_parameter = 35 # degrees\n",
    "# Poisson ratio\n",
    "poisson_ratio = 0.5\n",
    "# If None it will use the deflection sensitivity from the file\n",
    "deflection_sensitivity = None # m/V\n",
    "# If None it will use the spring constant from the file\n",
    "spring_constant = None # N/m\n",
    "# General plotting params\n",
    "plt.rcParams[\"figure.figsize\"] = (10,5)"
   ]
  },
  {
   "cell_type": "code",
   "execution_count": null,
   "metadata": {},
   "outputs": [],
   "source": [
    "file = loadfile(file_path)"
   ]
  },
  {
   "cell_type": "code",
   "execution_count": null,
   "metadata": {},
   "outputs": [],
   "source": [
    "filemetadata = file.filemetadata\n",
    "print(filemetadata['file_type'])"
   ]
  },
  {
   "cell_type": "code",
   "execution_count": null,
   "metadata": {},
   "outputs": [],
   "source": [
    "closed_loop = filemetadata['z_closed_loop']\n",
    "file_deflection_sensitivity = filemetadata['defl_sens_nmbyV'] #nm/V\n",
    "file_spring_constant = filemetadata['spring_const_Nbym'] #N/m\n",
    "height_channel = filemetadata['height_channel_key']\n",
    "\n",
    "if not deflection_sensitivity: deflection_sensitivity = file_deflection_sensitivity / 1e9 #m/V\n",
    "if not spring_constant: spring_constant = file_spring_constant"
   ]
  },
  {
   "cell_type": "code",
   "execution_count": null,
   "metadata": {},
   "outputs": [],
   "source": [
    "curve_idx = 0\n",
    "force_curve = file.getcurve(curve_idx)\n",
    "extend_segments = force_curve.extend_segments\n",
    "pause_segments = force_curve.pause_segments\n",
    "modulation_segments = force_curve.modulation_segments\n",
    "retract_segments = force_curve.retract_segments\n",
    "force_curve_segments = force_curve.get_segments()"
   ]
  },
  {
   "cell_type": "code",
   "execution_count": null,
   "metadata": {},
   "outputs": [],
   "source": [
    "t0 = 0\n",
    "for seg_id, segment in force_curve_segments:\n",
    "    height = segment.segment_formated_data[height_channel]\n",
    "    time = segment.segment_formated_data[\"time\"] + t0\n",
    "    plt.plot(time, height)\n",
    "    t0 = time[-1]\n",
    "\n",
    "plt.xlabel(\"Time [s]\")\n",
    "plt.ylabel(\"Height [Meters]\")\n",
    "plt.grid()\n",
    "plt.show()"
   ]
  },
  {
   "cell_type": "code",
   "execution_count": null,
   "metadata": {},
   "outputs": [],
   "source": [
    "t0 = 0\n",
    "for seg_id, segment in force_curve_segments:\n",
    "    deflection = segment.segment_formated_data[\"vDeflection\"]\n",
    "    time = segment.segment_formated_data[\"time\"] + t0\n",
    "    plt.plot(time, deflection)\n",
    "    t0 = time[-1]\n",
    "\n",
    "plt.xlabel(\"Time [s]\")\n",
    "plt.ylabel(\"Deflection [Volts]\")\n",
    "plt.grid()\n",
    "plt.show()"
   ]
  },
  {
   "cell_type": "code",
   "execution_count": null,
   "metadata": {},
   "outputs": [],
   "source": [
    "for seg_id, segment in force_curve_segments:\n",
    "    height = segment.segment_formated_data[height_channel]\n",
    "    deflection = segment.segment_formated_data[\"vDeflection\"]\n",
    "    plt.plot(height, deflection)\n",
    "\n",
    "plt.xlabel(\"Piezo Height [Meters]\")\n",
    "plt.ylabel(\"vDeflection [Volts]\")\n",
    "plt.grid()\n",
    "plt.show()"
   ]
  },
  {
   "cell_type": "code",
   "execution_count": null,
   "metadata": {},
   "outputs": [],
   "source": [
    "# Get approach, first extend segment\n",
    "first_exted_seg_id, first_ext_seg = extend_segments[0]\n",
    "first_ext_seg.preprocess_segment(deflection_sensitivity, height_channel)\n",
    "\n",
    "# Get retract, last retract segment\n",
    "last_ret_seg_id, last_ret_seg = retract_segments[-1]\n",
    "last_ret_seg.preprocess_segment(deflection_sensitivity, height_channel)"
   ]
  },
  {
   "cell_type": "code",
   "execution_count": null,
   "metadata": {},
   "outputs": [],
   "source": [
    "# Shift height\n",
    "xzero = last_ret_seg.zheight[-1] # Maximum height\n",
    "first_ext_seg.zheight = xzero - first_ext_seg.zheight\n",
    "last_ret_seg.zheight = xzero - last_ret_seg.zheight"
   ]
  },
  {
   "cell_type": "code",
   "execution_count": null,
   "metadata": {},
   "outputs": [],
   "source": [
    "app_height = first_ext_seg.zheight\n",
    "app_deflection = first_ext_seg.vdeflection\n",
    "ret_height = last_ret_seg.zheight\n",
    "ret_deflection = last_ret_seg.vdeflection"
   ]
  },
  {
   "cell_type": "code",
   "execution_count": null,
   "metadata": {},
   "outputs": [],
   "source": [
    "# Find initial PoC, you may get some warnings.\n",
    "poc = get_poc_RoV_method(app_height, app_deflection, 350e-9)\n",
    "print(*poc)"
   ]
  },
  {
   "cell_type": "code",
   "execution_count": null,
   "metadata": {},
   "outputs": [],
   "source": [
    "plt.plot(app_height, app_deflection)\n",
    "plt.axvline(x=poc[0], color='r', linestyle='--')\n",
    "plt.axhline(y=poc[1], color='r', linestyle='--')\n",
    "plt.grid()\n",
    "plt.show()"
   ]
  },
  {
   "cell_type": "code",
   "execution_count": null,
   "metadata": {},
   "outputs": [],
   "source": [
    "app_deflection = correct_tilt(app_height, app_deflection, poc[0], 1e-6, 10e-9)\n",
    "plt.axvline(x=poc[0]-1e-6, color='r', linestyle='--')\n",
    "plt.axvline(x=poc[0]-10e-9, color='g', linestyle='--')\n",
    "plt.plot(app_height, app_deflection)\n",
    "plt.grid()\n",
    "plt.show()"
   ]
  },
  {
   "cell_type": "code",
   "execution_count": null,
   "metadata": {},
   "outputs": [],
   "source": [
    "# Hertz fit\n",
    "poc[1] = 0\n",
    "first_ext_seg.get_force_vs_indentation(poc, spring_constant)\n",
    "app_indentation, app_force = first_ext_seg.indentation, first_ext_seg.force\n",
    "\n",
    "hertzmodel = HertzModel(indenter_shape, tip_parameter)\n",
    "hertzmodel.fit(app_indentation, app_force)\n",
    "print(hertzmodel.E0_init)\n",
    "\n",
    "hertzmodel.fit_report()\n",
    "\n",
    "hertz_d0 = hertzmodel.delta0\n",
    "hertz_f0 = hertzmodel.f0\n",
    "\n",
    "# Plot Hertz Fit results\n",
    "plt.plot(app_indentation-hertz_d0, app_force, label=\"Experimental Data\")\n",
    "plt.plot(app_indentation-hertz_d0, hertzmodel.eval(app_indentation)-hertz_f0, label=\"Model Fit\")\n",
    "plt.xlabel('Indentation [m]')\n",
    "plt.ylabel('Force [N]')\n",
    "plt.legend()\n",
    "plt.grid()\n",
    "plt.show()\n",
    "\n",
    "# Plot residuals\n",
    "plt.plot(app_indentation-hertz_d0, hertzmodel.get_residuals(app_indentation, app_force), \"bo\")\n",
    "plt.xlabel('Indentation [m]')\n",
    "plt.ylabel('Residuals [N]')\n",
    "plt.grid()\n",
    "plt.show()"
   ]
  },
  {
   "cell_type": "code",
   "execution_count": null,
   "metadata": {},
   "outputs": [],
   "source": [
    "# Hertz fit\n",
    "poc[1] = 0\n",
    "first_ext_seg.get_force_vs_indentation(poc, spring_constant)\n",
    "app_indentation, app_force = first_ext_seg.indentation, first_ext_seg.force\n",
    "\n",
    "hertzmodel = HertzModel(indenter_shape, tip_parameter)\n",
    "hertzmodel.fit_hline_flag = True\n",
    "hertzmodel.fit(app_indentation, app_force)\n",
    "print(hertzmodel.E0_init)\n",
    "\n",
    "hertz_d0 = hertzmodel.delta0\n",
    "hertz_f0 = hertzmodel.f0\n",
    "\n",
    "hertzmodel.fit_report()\n",
    "\n",
    "# Plot Hertz Fit results\n",
    "plt.plot(app_indentation-hertz_d0, app_force-hertz_f0, label=\"Experimental Data\")\n",
    "plt.plot(app_indentation-hertz_d0, hertzmodel.eval(app_indentation)-hertz_f0, label=\"Model Fit\")\n",
    "plt.xlabel('Indentation [m]')\n",
    "plt.ylabel('Force [N]')\n",
    "plt.legend()\n",
    "plt.grid()\n",
    "plt.show()\n",
    "\n",
    "# Plot residuals\n",
    "plt.plot(app_indentation-hertz_d0, hertzmodel.get_residuals(app_indentation, app_force), \"bo\")\n",
    "plt.xlabel('Indentation [m]')\n",
    "plt.ylabel('Residuals [N]')\n",
    "plt.grid()\n",
    "plt.show()"
   ]
  }
 ],
 "metadata": {
  "interpreter": {
   "hash": "70f9338631b1e814274bb6be12ff2af50260dd3a60751a7a596f31e11ca463b8"
  },
  "kernelspec": {
   "display_name": "Python 3",
   "language": "python",
   "name": "python3"
  },
  "language_info": {
   "codemirror_mode": {
    "name": "ipython",
    "version": 3
   },
   "file_extension": ".py",
   "mimetype": "text/x-python",
   "name": "python",
   "nbconvert_exporter": "python",
   "pygments_lexer": "ipython3",
   "version": "3.7.6"
  }
 },
 "nbformat": 4,
 "nbformat_minor": 5
}
