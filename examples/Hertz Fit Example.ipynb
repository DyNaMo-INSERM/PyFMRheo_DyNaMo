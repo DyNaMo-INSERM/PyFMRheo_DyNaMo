{
 "cells": [
  {
   "cell_type": "code",
   "execution_count": null,
   "id": "403d181e",
   "metadata": {},
   "outputs": [
    {
     "name": "stdout",
     "output_type": "stream",
     "text": [
      "Found existing installation: pyafmreader x.x.x\n",
      "Uninstalling pyafmreader-x.x.x:\n",
      "  Successfully uninstalled pyafmreader-x.x.x\n",
      "Note: you may need to restart the kernel to use updated packages.\n",
      "Collecting git+https://github.com/jlopezalo/pyafmreader.git\n",
      "  Cloning https://github.com/jlopezalo/pyafmreader.git to /private/var/folders/4k/ps22fmxj3gx6vls78t2p63wh0000gn/T/pip-req-build-yazgusq3\n",
      "  Running command git clone -q https://github.com/jlopezalo/pyafmreader.git /private/var/folders/4k/ps22fmxj3gx6vls78t2p63wh0000gn/T/pip-req-build-yazgusq3\n",
      "Collecting fasterzip@ git+https://github.com/TkTech/fasterzip.git\n",
      "  Cloning https://github.com/TkTech/fasterzip.git to /private/var/folders/4k/ps22fmxj3gx6vls78t2p63wh0000gn/T/pip-install-oliooue3/fasterzip_c149f576dbef47c58963d353f61c6935\n",
      "  Running command git clone -q https://github.com/TkTech/fasterzip.git /private/var/folders/4k/ps22fmxj3gx6vls78t2p63wh0000gn/T/pip-install-oliooue3/fasterzip_c149f576dbef47c58963d353f61c6935\n",
      "Requirement already satisfied: Cython==0.29.28 in /opt/anaconda3/lib/python3.8/site-packages (from pyafmreader===x.x.x) (0.29.28)\n",
      "Collecting numpy==1.21.6\n",
      "  Using cached numpy-1.21.6-cp38-cp38-macosx_10_9_x86_64.whl (16.9 MB)\n",
      "Building wheels for collected packages: pyafmreader\n",
      "  Building wheel for pyafmreader (setup.py) ... \u001b[?25ldone\n",
      "\u001b[?25h  Created wheel for pyafmreader: filename=pyafmreader-x.x.x-py3-none-any.whl size=22804 sha256=df7e8fa799137d7c743efacc2f895ba56f0c9afbbd9e7084f7f7367c2aa1f7f3\n",
      "  Stored in directory: /private/var/folders/4k/ps22fmxj3gx6vls78t2p63wh0000gn/T/pip-ephem-wheel-cache-nxw2c2zt/wheels/2c/b3/db/527ab21e846be46a69f6ee973092a5c8b3d1a47ee176dbc2b9\n",
      "\u001b[33m  WARNING: Built wheel for pyafmreader is invalid: Metadata 1.2 mandates PEP 440 version, but 'x.x.x' is not\u001b[0m\n",
      "Failed to build pyafmreader\n",
      "Installing collected packages: numpy, pyafmreader\n",
      "  Attempting uninstall: numpy\n",
      "    Found existing installation: numpy 1.23.0\n",
      "    Uninstalling numpy-1.23.0:\n",
      "      Successfully uninstalled numpy-1.23.0\n"
     ]
    }
   ],
   "source": [
    "# Install library for reading JPK File\n",
    "%pip uninstall pyafmreader --yes\n",
    "%pip install git+https://github.com/jlopezalo/pyafmreader.git"
   ]
  },
  {
   "cell_type": "code",
   "execution_count": null,
   "id": "507d2c72",
   "metadata": {},
   "outputs": [],
   "source": [
    "# Install library for AFM data Rheology Analysis\n",
    "%pip uninstall pyafmrheo --yes\n",
    "%pip install git+https://github.com/jlopezalo/pyafmrheo.git"
   ]
  },
  {
   "cell_type": "code",
   "execution_count": null,
   "id": "a5ef5373",
   "metadata": {},
   "outputs": [],
   "source": [
    "# Import libraries we will need\n",
    "import numpy as np\n",
    "import pandas as pd\n",
    "import matplotlib.pyplot as plt\n",
    "from scipy.signal import detrend\n",
    "\n",
    "# Get file reader from library\n",
    "from pyafmreader import loadfile\n",
    "\n",
    "# Get data analysis tools\n",
    "from pyafmrheo.utils.force_curves import *\n",
    "from pyafmrheo.models.hertz import HertzModel"
   ]
  },
  {
   "cell_type": "code",
   "execution_count": null,
   "id": "24dde060",
   "metadata": {},
   "outputs": [],
   "source": [
    "# Define global variables\n",
    "file_path = '/Users/javierlopez/Documents/Marseille/05-11-2021/E/map-data-2021.11.05-15.41.45.699.jpk-force-map'\n",
    "# Shapes available: paraboloid, pyramid\n",
    "indenter_shape = \"pyramid\"\n",
    "# tip_parameter = 500 * 1e-9 # meters\n",
    "tip_parameter = 35 # degrees\n",
    "# Poisson ratio\n",
    "poisson_ratio = 0.5\n",
    "# If None it will use the deflection sensitivity from the file\n",
    "deflection_sensitivity = None # m/V\n",
    "# If None it will use the spring constant from the file\n",
    "spring_constant = None # N/m\n",
    "# General plotting params\n",
    "plt.rcParams[\"figure.figsize\"] = (10,5)"
   ]
  },
  {
   "cell_type": "code",
   "execution_count": null,
   "id": "6dfa2319",
   "metadata": {},
   "outputs": [],
   "source": [
    "file = loadfile(file_path)"
   ]
  },
  {
   "cell_type": "code",
   "execution_count": null,
   "id": "c6d6aba4",
   "metadata": {},
   "outputs": [],
   "source": [
    "filemetadata = file.filemetadata"
   ]
  },
  {
   "cell_type": "code",
   "execution_count": null,
   "id": "aab7e462",
   "metadata": {},
   "outputs": [],
   "source": [
    "closed_loop = filemetadata['z_closed_loop_status']\n",
    "file_deflection_sensitivity = filemetadata['original_deflection_sensitivity'] #nm/V\n",
    "file_spring_constant = filemetadata['original_spring_constant'] #N/m\n",
    "height_channel = filemetadata['height_channel_key']\n",
    "\n",
    "if not deflection_sensitivity: deflection_sensitivity = file_deflection_sensitivity / 1e9 #m/V\n",
    "if not spring_constant: spring_constant = file_spring_constant"
   ]
  },
  {
   "cell_type": "code",
   "execution_count": null,
   "id": "da34ffc7",
   "metadata": {},
   "outputs": [],
   "source": [
    "curve_idx = 0\n",
    "force_curve = file.getcurve(0)\n",
    "extend_segments = force_curve.extend_segments\n",
    "pause_segments = force_curve.pause_segments\n",
    "modulation_segments = force_curve.modulation_segments\n",
    "retract_segments = force_curve.retract_segments\n",
    "force_curve_segments = force_curve.get_segments()"
   ]
  },
  {
   "cell_type": "code",
   "execution_count": null,
   "id": "518bd308",
   "metadata": {},
   "outputs": [],
   "source": [
    "t0 = 0\n",
    "for seg_id, segment in force_curve_segments:\n",
    "    height = segment.segment_formated_data[height_channel]\n",
    "    time = segment.segment_formated_data[\"time\"] + t0\n",
    "    plt.plot(time, height)\n",
    "    t0 = time[-1]\n",
    "\n",
    "plt.xlabel(\"Time [s]\")\n",
    "plt.ylabel(\"Height [Meters]\")\n",
    "plt.grid()\n",
    "plt.show()"
   ]
  },
  {
   "cell_type": "code",
   "execution_count": null,
   "id": "15f9a111",
   "metadata": {},
   "outputs": [],
   "source": [
    "t0 = 0\n",
    "for seg_id, segment in force_curve_segments:\n",
    "    deflection = segment.segment_formated_data[\"vDeflection\"]\n",
    "    time = segment.segment_formated_data[\"time\"] + t0\n",
    "    plt.plot(time, deflection)\n",
    "    t0 = time[-1]\n",
    "\n",
    "plt.xlabel(\"Time [s]\")\n",
    "plt.ylabel(\"Deflection [Volts]\")\n",
    "plt.grid()\n",
    "plt.show()"
   ]
  },
  {
   "cell_type": "code",
   "execution_count": null,
   "id": "fb323e75",
   "metadata": {},
   "outputs": [],
   "source": [
    "for seg_id, segment in force_curve_segments:\n",
    "    height = segment.segment_formated_data[height_channel]\n",
    "    deflection = segment.segment_formated_data[\"vDeflection\"]\n",
    "    plt.plot(height, deflection)\n",
    "\n",
    "plt.xlabel(\"Piezo Height [Meters]\")\n",
    "plt.ylabel(\"vDeflection [Volts]\")\n",
    "plt.grid()\n",
    "plt.show()"
   ]
  },
  {
   "cell_type": "code",
   "execution_count": null,
   "id": "e3e2aff3",
   "metadata": {},
   "outputs": [],
   "source": [
    "# Get approach, first extend segment\n",
    "first_exted_seg_id, first_ext_seg = extend_segments[0]\n",
    "first_ext_seg.preprocess_segment(deflection_sensitivity, height_channel)\n",
    "\n",
    "# Get retract, last retract segment\n",
    "last_ret_seg_id, last_ret_seg = retract_segments[-1]\n",
    "last_ret_seg.preprocess_segment(deflection_sensitivity, height_channel)"
   ]
  },
  {
   "cell_type": "code",
   "execution_count": null,
   "id": "03fb9dc4",
   "metadata": {},
   "outputs": [],
   "source": [
    "# Shift height\n",
    "xzero = last_ret_seg.zheight[-1] # Maximum height\n",
    "first_ext_seg.zheight = xzero - first_ext_seg.zheight\n",
    "last_ret_seg.zheight = xzero - last_ret_seg.zheight"
   ]
  },
  {
   "cell_type": "code",
   "execution_count": null,
   "id": "dd63d03a",
   "metadata": {},
   "outputs": [],
   "source": [
    "app_height = first_ext_seg.zheight\n",
    "app_deflection = first_ext_seg.vdeflection\n",
    "ret_height = last_ret_seg.zheight\n",
    "ret_deflection = last_ret_seg.vdeflection"
   ]
  },
  {
   "cell_type": "code",
   "execution_count": null,
   "id": "b7564ac7",
   "metadata": {},
   "outputs": [],
   "source": [
    "# Find initial PoC, you may get some warnings.\n",
    "poc = get_poc_RoV_method(app_height, app_deflection, win_size=60)\n",
    "print(*poc)"
   ]
  },
  {
   "cell_type": "code",
   "execution_count": null,
   "id": "69b9f064",
   "metadata": {},
   "outputs": [],
   "source": [
    "plt.plot(app_height, app_deflection)\n",
    "plt.axvline(x=poc[0], color='r', linestyle='--')\n",
    "plt.axhline(y=poc[1], color='r', linestyle='--')\n",
    "plt.grid()\n",
    "plt.show()"
   ]
  },
  {
   "cell_type": "code",
   "execution_count": null,
   "id": "2d588b7b",
   "metadata": {},
   "outputs": [],
   "source": [
    "# Hertz fit\n",
    "poc[1] = 0\n",
    "first_ext_seg.get_force_vs_indentation(poc, spring_constant)\n",
    "app_indentation, app_force = first_ext_seg.indentation, first_ext_seg.force\n",
    "\n",
    "hertzmodel = HertzModel(indenter_shape, tip_parameter)\n",
    "hertzmodel.E0_init = 2000\n",
    "hertzmodel.E0_min = 0\n",
    "\n",
    "\n",
    "hertzmodel.fit(app_indentation, app_force)\n",
    "\n",
    "hertz_E = hertzmodel.E0\n",
    "hertz_d0 = hertzmodel.delta0\n",
    "\n",
    "print(hertz_E)\n",
    "print(hertz_d0)\n",
    "\n",
    "# Plot Hertz Fit results\n",
    "plt.plot(app_indentation-hertz_d0, app_force, label=\"Experimental Data\")\n",
    "plt.plot(app_indentation-hertz_d0, hertzmodel.eval(app_indentation-hertz_d0), label=\"Model Fit\")\n",
    "plt.xlabel('Indentation [m]')\n",
    "plt.ylabel('Force [N]')\n",
    "plt.legend()\n",
    "plt.grid()\n",
    "plt.show()"
   ]
  },
  {
   "cell_type": "code",
   "execution_count": null,
   "id": "2e9440c4",
   "metadata": {},
   "outputs": [],
   "source": []
  },
  {
   "cell_type": "code",
   "execution_count": null,
   "id": "535cc74d",
   "metadata": {},
   "outputs": [],
   "source": []
  }
 ],
 "metadata": {
  "interpreter": {
   "hash": "70f9338631b1e814274bb6be12ff2af50260dd3a60751a7a596f31e11ca463b8"
  },
  "kernelspec": {
   "display_name": "Python 3",
   "language": "python",
   "name": "python3"
  },
  "language_info": {
   "codemirror_mode": {
    "name": "ipython",
    "version": 3
   },
   "file_extension": ".py",
   "mimetype": "text/x-python",
   "name": "python",
   "nbconvert_exporter": "python",
   "pygments_lexer": "ipython3",
   "version": "3.8.8"
  }
 },
 "nbformat": 4,
 "nbformat_minor": 5
}
