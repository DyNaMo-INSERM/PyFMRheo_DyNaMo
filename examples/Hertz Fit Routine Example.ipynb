{
 "cells": [
  {
   "cell_type": "code",
   "execution_count": 1,
   "metadata": {},
   "outputs": [
    {
     "name": "stdout",
     "output_type": "stream",
     "text": [
      "Found existing installation: pyafmreader x.x.x\n",
      "Uninstalling pyafmreader-x.x.x:\n",
      "  Successfully uninstalled pyafmreader-x.x.x\n",
      "Note: you may need to restart the kernel to use updated packages.\n",
      "Collecting git+https://github.com/jlopezalo/pyafmreader.git\n",
      "  Cloning https://github.com/jlopezalo/pyafmreader.git to /private/var/folders/4k/ps22fmxj3gx6vls78t2p63wh0000gn/T/pip-req-build-5v15nek6\n",
      "  Running command git clone --filter=blob:none --quiet https://github.com/jlopezalo/pyafmreader.git /private/var/folders/4k/ps22fmxj3gx6vls78t2p63wh0000gn/T/pip-req-build-5v15nek6\n",
      "  Resolved https://github.com/jlopezalo/pyafmreader.git to commit 68b3a64249d775dabc52e3a611fefecabbdb72c5\n",
      "  Preparing metadata (setup.py) ... \u001b[?25ldone\n",
      "\u001b[?25hCollecting fasterzip@ git+https://github.com/TkTech/fasterzip.git\n",
      "  Cloning https://github.com/TkTech/fasterzip.git to /private/var/folders/4k/ps22fmxj3gx6vls78t2p63wh0000gn/T/pip-install-2rcyu7za/fasterzip_324170363e9d4e3d96b96e3c33d50b0c\n",
      "  Running command git clone --filter=blob:none --quiet https://github.com/TkTech/fasterzip.git /private/var/folders/4k/ps22fmxj3gx6vls78t2p63wh0000gn/T/pip-install-2rcyu7za/fasterzip_324170363e9d4e3d96b96e3c33d50b0c\n",
      "  Resolved https://github.com/TkTech/fasterzip.git to commit 09e2cae7821f96f4ba8f6d4122e1045352a656b4\n",
      "  Preparing metadata (setup.py) ... \u001b[?25ldone\n",
      "\u001b[?25hRequirement already satisfied: Cython>=0.29.28 in /Library/Frameworks/Python.framework/Versions/3.10/lib/python3.10/site-packages (from pyafmreader===x.x.x) (0.29.32)\n",
      "Requirement already satisfied: numpy in /Library/Frameworks/Python.framework/Versions/3.10/lib/python3.10/site-packages (from pyafmreader===x.x.x) (1.23.4)\n",
      "Using legacy 'setup.py install' for pyafmreader, since package 'wheel' is not installed.\n",
      "Installing collected packages: pyafmreader\n",
      "  Running setup.py install for pyafmreader ... \u001b[?25ldone\n",
      "\u001b[?25hSuccessfully installed pyafmreader-x.x.x\n",
      "\n",
      "\u001b[1m[\u001b[0m\u001b[34;49mnotice\u001b[0m\u001b[1;39;49m]\u001b[0m\u001b[39;49m A new release of pip available: \u001b[0m\u001b[31;49m22.2.2\u001b[0m\u001b[39;49m -> \u001b[0m\u001b[32;49m22.3\u001b[0m\n",
      "\u001b[1m[\u001b[0m\u001b[34;49mnotice\u001b[0m\u001b[1;39;49m]\u001b[0m\u001b[39;49m To update, run: \u001b[0m\u001b[32;49mpip install --upgrade pip\u001b[0m\n",
      "Note: you may need to restart the kernel to use updated packages.\n"
     ]
    }
   ],
   "source": [
    "# Install library for reading JPK File\n",
    "%pip uninstall pyafmreader --yes\n",
    "%pip install git+https://github.com/jlopezalo/pyafmreader.git"
   ]
  },
  {
   "cell_type": "code",
   "execution_count": 2,
   "metadata": {},
   "outputs": [
    {
     "name": "stdout",
     "output_type": "stream",
     "text": [
      "Found existing installation: pyafmrheo 0.0.1\n",
      "Uninstalling pyafmrheo-0.0.1:\n",
      "  Successfully uninstalled pyafmrheo-0.0.1\n",
      "Note: you may need to restart the kernel to use updated packages.\n",
      "Collecting git+https://github.com/jlopezalo/pyafmrheo.git\n",
      "  Cloning https://github.com/jlopezalo/pyafmrheo.git to /private/var/folders/4k/ps22fmxj3gx6vls78t2p63wh0000gn/T/pip-req-build-sddcbgqe\n",
      "  Running command git clone --filter=blob:none --quiet https://github.com/jlopezalo/pyafmrheo.git /private/var/folders/4k/ps22fmxj3gx6vls78t2p63wh0000gn/T/pip-req-build-sddcbgqe\n",
      "  Resolved https://github.com/jlopezalo/pyafmrheo.git to commit f89842094bce872e7560b3bf71ab7833b230881d\n",
      "  Preparing metadata (setup.py) ... \u001b[?25ldone\n",
      "\u001b[?25hRequirement already satisfied: numpy in /Library/Frameworks/Python.framework/Versions/3.10/lib/python3.10/site-packages (from pyafmrheo==0.0.1) (1.23.4)\n",
      "Requirement already satisfied: pandas in /Library/Frameworks/Python.framework/Versions/3.10/lib/python3.10/site-packages (from pyafmrheo==0.0.1) (1.5.0)\n",
      "Requirement already satisfied: scipy in /Library/Frameworks/Python.framework/Versions/3.10/lib/python3.10/site-packages (from pyafmrheo==0.0.1) (1.9.2)\n",
      "Requirement already satisfied: pytz>=2020.1 in /Library/Frameworks/Python.framework/Versions/3.10/lib/python3.10/site-packages (from pandas->pyafmrheo==0.0.1) (2022.4)\n",
      "Requirement already satisfied: python-dateutil>=2.8.1 in /Library/Frameworks/Python.framework/Versions/3.10/lib/python3.10/site-packages (from pandas->pyafmrheo==0.0.1) (2.8.2)\n",
      "Requirement already satisfied: six>=1.5 in /Library/Frameworks/Python.framework/Versions/3.10/lib/python3.10/site-packages (from python-dateutil>=2.8.1->pandas->pyafmrheo==0.0.1) (1.16.0)\n",
      "Using legacy 'setup.py install' for pyafmrheo, since package 'wheel' is not installed.\n",
      "Installing collected packages: pyafmrheo\n",
      "  Running setup.py install for pyafmrheo ... \u001b[?25ldone\n",
      "\u001b[?25hSuccessfully installed pyafmrheo-0.0.1\n",
      "\n",
      "\u001b[1m[\u001b[0m\u001b[34;49mnotice\u001b[0m\u001b[1;39;49m]\u001b[0m\u001b[39;49m A new release of pip available: \u001b[0m\u001b[31;49m22.2.2\u001b[0m\u001b[39;49m -> \u001b[0m\u001b[32;49m22.3\u001b[0m\n",
      "\u001b[1m[\u001b[0m\u001b[34;49mnotice\u001b[0m\u001b[1;39;49m]\u001b[0m\u001b[39;49m To update, run: \u001b[0m\u001b[32;49mpip install --upgrade pip\u001b[0m\n",
      "Note: you may need to restart the kernel to use updated packages.\n"
     ]
    }
   ],
   "source": [
    "# Install library for AFM data Rheology Analysis\n",
    "%pip uninstall pyafmrheo --yes\n",
    "%pip install git+https://github.com/jlopezalo/pyafmrheo.git"
   ]
  },
  {
   "cell_type": "code",
   "execution_count": 3,
   "metadata": {},
   "outputs": [],
   "source": [
    "# Import libraries we will need\n",
    "import numpy as np\n",
    "import pandas as pd\n",
    "import matplotlib.pyplot as plt\n",
    "\n",
    "# Get file reader from library\n",
    "from pyafmreader import loadfile\n",
    "\n",
    "# Get data analysis tools\n",
    "from pyafmrheo.routines.HertzFit import doHertzFit"
   ]
  },
  {
   "cell_type": "code",
   "execution_count": 203,
   "metadata": {},
   "outputs": [],
   "source": [
    "# Define global variables\n",
    "file_path = '/Users/javierlopez/Desktop/20221029/MIcrorheo/map-data-2022.10.29-14.39.03.268.jpk-force-map'\n",
    "# Shapes available: paraboloid, pyramid\n",
    "indenter_shape = \"paraboloid\"\n",
    "tip_parameter = 5000 * 1e-9 # meters\n",
    "# tip_parameter = 35 # degrees\n",
    "# Poisson ratio\n",
    "poisson_ratio = 0.5\n",
    "# Window to find cp\n",
    "windowforCP = 20e-9\n",
    "# If None it will use the deflection sensitivity from the file\n",
    "deflection_sensitivity = None # m/V\n",
    "# If None it will use the spring constant from the file\n",
    "spring_constant = None # N/m\n",
    "# General plotting params\n",
    "plt.rcParams[\"figure.figsize\"] = (10,5)"
   ]
  },
  {
   "cell_type": "code",
   "execution_count": 204,
   "metadata": {},
   "outputs": [],
   "source": [
    "file = loadfile(file_path)"
   ]
  },
  {
   "cell_type": "code",
   "execution_count": 205,
   "metadata": {},
   "outputs": [
    {
     "name": "stdout",
     "output_type": "stream",
     "text": [
      ".jpk-force-map\n"
     ]
    }
   ],
   "source": [
    "filemetadata = file.filemetadata\n",
    "print(filemetadata['file_type'])"
   ]
  },
  {
   "cell_type": "code",
   "execution_count": 206,
   "metadata": {},
   "outputs": [],
   "source": [
    "closed_loop = filemetadata['z_closed_loop']\n",
    "file_deflection_sensitivity = filemetadata['defl_sens_nmbyV'] #nm/V\n",
    "file_spring_constant = filemetadata['spring_const_Nbym'] #N/m\n",
    "height_channel = filemetadata['height_channel_key']\n",
    "\n",
    "if not deflection_sensitivity: deflection_sensitivity = file_deflection_sensitivity / 1e9 #m/V\n",
    "if not spring_constant: spring_constant = file_spring_constant"
   ]
  },
  {
   "cell_type": "code",
   "execution_count": 232,
   "metadata": {},
   "outputs": [],
   "source": [
    "param_dict = {\n",
    "    'def_sens': deflection_sensitivity,\n",
    "    'k': spring_constant,\n",
    "    'height_channel': height_channel,\n",
    "    'poc_win': windowforCP,\n",
    "    'curve_seg': 'extend',\n",
    "    'fit_range_type': 'indentation',\n",
    "    'min_ind': -np.inf,\n",
    "    'max_ind': np.inf,\n",
    "    'fit_line': False,\n",
    "    'slope': 0,\n",
    "    'd0': 0.0,\n",
    "    'f0': 0.0,\n",
    "    'auto_init_E0': True,\n",
    "    'correct_tilt': True,\n",
    "    'tilt_max_offset': 3e-6,\n",
    "    'tilt_min_offset': 2e-6,\n",
    "    'contact_model': indenter_shape,\n",
    "    'tip_param': tip_parameter\n",
    "}"
   ]
  },
  {
   "cell_type": "code",
   "execution_count": 233,
   "metadata": {},
   "outputs": [],
   "source": [
    "curve_idx = 0\n",
    "force_curve = file.getcurve(curve_idx)\n",
    "force_curve.preprocess_force_curve(param_dict['def_sens'], param_dict['height_channel'])\n",
    "if filemetadata['file_type'] in ('.jpk-force', '.jpk-force-map', '.jpk-qi-data'):\n",
    "    force_curve.shift_height()"
   ]
  },
  {
   "cell_type": "code",
   "execution_count": 234,
   "metadata": {},
   "outputs": [
    {
     "name": "stderr",
     "output_type": "stream",
     "text": [
      "/Library/Frameworks/Python.framework/Versions/3.10/lib/python3.10/site-packages/pyafmrheo/models/hertz.py:161: RuntimeWarning: divide by zero encountered in divide\n",
      "  a = (self.get_residuals(indentation, force, sample_height)**2/force)\n"
     ]
    }
   ],
   "source": [
    "hertz_result = doHertzFit(force_curve, param_dict)"
   ]
  },
  {
   "cell_type": "code",
   "execution_count": 235,
   "metadata": {},
   "outputs": [
    {
     "name": "stdout",
     "output_type": "stream",
     "text": [
      "\n",
      "        # Fit parameters\n",
      "        Indenter shape: paraboloid\n",
      "\n",
      "        Tip paraneter: 5e-06\n",
      "\n",
      "        BEC Model: None\n",
      "\n",
      "        Number of free parameters: 3\n",
      "\n",
      "        delta0: -1.6783791960842072e-07\n",
      "\n",
      "        E0: 275.2446666396745\n",
      "\n",
      "        f0: 1.0706687046011469e-11\n",
      "\n",
      "        slope: None\n",
      "\n",
      "        # Fit metrics\n",
      "        MAE: 2.679983086376248e-20\n",
      "\n",
      "        MSE: 2.1865470521699173e-22\n",
      "\n",
      "        RMSE: 1.4786977555166292e-11\n",
      "\n",
      "        Rsq: 0.9944852600429873\n",
      "\n",
      "        Chisq: 2.2358577456879293e-09\n",
      "\n",
      "        RedChisq: 7.452859152293098e-10\n",
      "\n",
      "        \n"
     ]
    }
   ],
   "source": [
    "hertz_result.fit_report()"
   ]
  },
  {
   "cell_type": "code",
   "execution_count": 254,
   "metadata": {},
   "outputs": [
    {
     "data": {
      "image/png": "[encoded data removed]",
      "text/plain": [
       "<Figure size 1000x500 with 1 Axes>"
      ]
     },
     "metadata": {},
     "output_type": "display_data"
    }
   ],
   "source": [
    "app = force_curve.get_segments()[0][1]\n",
    "plt.plot(\n",
    "    (app.indentation - hertz_result.delta0) * 1e6,\n",
    "    (app.force + hertz_result.f0) * 1e12,\n",
    "    color='#E72E38',\n",
    "    linewidth=3,\n",
    "    label='Experimental Data'\n",
    ")\n",
    "plt.plot(\n",
    "    (app.indentation - hertz_result.delta0) * 1e9,\n",
    "    hertz_result.eval(app.indentation) * 1e12,\n",
    "    color='#2B3E51',\n",
    "    linewidth=2.5,\n",
    "    linestyle='--',\n",
    "    label='Elastic Model Fit'\n",
    ")\n",
    "plt.xlabel('Indentation [nm]', fontsize = 15)\n",
    "plt.ylabel('Force [pN]', fontsize = 15)\n",
    "plt.legend()\n",
    "plt.show()"
   ]
  },
  {
   "cell_type": "code",
   "execution_count": null,
   "metadata": {},
   "outputs": [],
   "source": []
  },
  {
   "cell_type": "code",
   "execution_count": null,
   "metadata": {},
   "outputs": [],
   "source": []
  }
 ],
 "metadata": {
  "kernelspec": {
   "display_name": "Python 3 (ipykernel)",
   "language": "python",
   "name": "python3"
  },
  "language_info": {
   "codemirror_mode": {
    "name": "ipython",
    "version": 3
   },
   "file_extension": ".py",
   "mimetype": "text/x-python",
   "name": "python",
   "nbconvert_exporter": "python",
   "pygments_lexer": "ipython3",
   "version": "3.10.6"
  }
 },
 "nbformat": 4,
 "nbformat_minor": 4
}
