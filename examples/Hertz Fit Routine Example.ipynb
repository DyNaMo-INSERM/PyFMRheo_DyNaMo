{
 "cells": [
  {
   "cell_type": "code",
   "execution_count": 1,
   "metadata": {},
   "outputs": [
    {
     "name": "stdout",
     "output_type": "stream",
     "text": [
      "Found existing installation: pyafmreader x.x.x\n",
      "Uninstalling pyafmreader-x.x.x:\n",
      "  Successfully uninstalled pyafmreader-x.x.x\n",
      "Note: you may need to restart the kernel to use updated packages.\n",
      "Collecting git+https://github.com/jlopezalo/pyafmreader.git\n",
      "  Cloning https://github.com/jlopezalo/pyafmreader.git to /private/var/folders/4k/ps22fmxj3gx6vls78t2p63wh0000gn/T/pip-req-build-ggx3bx4a\n",
      "  Running command git clone --filter=blob:none --quiet https://github.com/jlopezalo/pyafmreader.git /private/var/folders/4k/ps22fmxj3gx6vls78t2p63wh0000gn/T/pip-req-build-ggx3bx4a\n",
      "  Resolved https://github.com/jlopezalo/pyafmreader.git to commit 455c83796458190d25d9ff9b6a4ad8b3e40680b4\n",
      "  Preparing metadata (setup.py) ... \u001b[?25ldone\n",
      "\u001b[?25hCollecting fasterzip@ git+https://github.com/TkTech/fasterzip.git\n",
      "  Cloning https://github.com/TkTech/fasterzip.git to /private/var/folders/4k/ps22fmxj3gx6vls78t2p63wh0000gn/T/pip-install-wm3m6r_1/fasterzip_5387e655b8cc4fe68b47d96e057adfd9\n",
      "  Running command git clone --filter=blob:none --quiet https://github.com/TkTech/fasterzip.git /private/var/folders/4k/ps22fmxj3gx6vls78t2p63wh0000gn/T/pip-install-wm3m6r_1/fasterzip_5387e655b8cc4fe68b47d96e057adfd9\n",
      "  Resolved https://github.com/TkTech/fasterzip.git to commit 09e2cae7821f96f4ba8f6d4122e1045352a656b4\n",
      "  Preparing metadata (setup.py) ... \u001b[?25ldone\n",
      "\u001b[?25hRequirement already satisfied: Cython>=0.29.28 in /Library/Frameworks/Python.framework/Versions/3.7/lib/python3.7/site-packages (from pyafmreader===x.x.x) (0.29.28)\n",
      "Requirement already satisfied: numpy in /Library/Frameworks/Python.framework/Versions/3.7/lib/python3.7/site-packages (from pyafmreader===x.x.x) (1.21.6)\n",
      "Building wheels for collected packages: pyafmreader\n",
      "  Building wheel for pyafmreader (setup.py) ... \u001b[?25ldone\n",
      "\u001b[?25h  Created wheel for pyafmreader: filename=pyafmreader-x.x.x-py3-none-any.whl size=26227 sha256=648b1f2aa44525fbb683086600b1a2b91bcb1cfe3a9ed20c741c61fa2b7342e3\n",
      "  Stored in directory: /private/var/folders/4k/ps22fmxj3gx6vls78t2p63wh0000gn/T/pip-ephem-wheel-cache-6tqv1q_m/wheels/72/d2/90/28c19c43a1469f295589665c30a6b7af31bd91116cde73356f\n",
      "\u001b[33m  WARNING: Built wheel for pyafmreader is invalid: Metadata 1.2 mandates PEP 440 version, but 'x.x.x' is not\u001b[0m\u001b[33m\n",
      "\u001b[0mFailed to build pyafmreader\n",
      "Installing collected packages: pyafmreader\n",
      "  Running setup.py install for pyafmreader ... \u001b[?25ldone\n",
      "\u001b[33m  DEPRECATION: pyafmreader was installed using the legacy 'setup.py install' method, because a wheel could not be built for it. A possible replacement is to fix the wheel build issue reported above. Discussion can be found at https://github.com/pypa/pip/issues/8368\u001b[0m\u001b[33m\n",
      "\u001b[0m\u001b[?25hSuccessfully installed pyafmreader-x.x.x\n",
      "Note: you may need to restart the kernel to use updated packages.\n"
     ]
    }
   ],
   "source": [
    "# Install library for reading JPK File\n",
    "%pip uninstall pyafmreader --yes\n",
    "%pip install git+https://github.com/jlopezalo/pyafmreader.git"
   ]
  },
  {
   "cell_type": "code",
   "execution_count": 2,
   "metadata": {},
   "outputs": [
    {
     "name": "stdout",
     "output_type": "stream",
     "text": [
      "Found existing installation: pyafmrheo 0.0.1\n",
      "Uninstalling pyafmrheo-0.0.1:\n",
      "  Successfully uninstalled pyafmrheo-0.0.1\n",
      "Note: you may need to restart the kernel to use updated packages.\n",
      "Collecting git+https://github.com/jlopezalo/pyafmrheo.git\n",
      "  Cloning https://github.com/jlopezalo/pyafmrheo.git to /private/var/folders/4k/ps22fmxj3gx6vls78t2p63wh0000gn/T/pip-req-build-31ydoe01\n",
      "  Running command git clone --filter=blob:none --quiet https://github.com/jlopezalo/pyafmrheo.git /private/var/folders/4k/ps22fmxj3gx6vls78t2p63wh0000gn/T/pip-req-build-31ydoe01\n",
      "  Resolved https://github.com/jlopezalo/pyafmrheo.git to commit 43295b580a50f00097694a503bc5f35d11e24c98\n",
      "  Preparing metadata (setup.py) ... \u001b[?25ldone\n",
      "\u001b[?25hRequirement already satisfied: numpy in /Library/Frameworks/Python.framework/Versions/3.7/lib/python3.7/site-packages (from pyafmrheo==0.0.1) (1.21.6)\n",
      "Requirement already satisfied: pandas in /Library/Frameworks/Python.framework/Versions/3.7/lib/python3.7/site-packages (from pyafmrheo==0.0.1) (0.25.3)\n",
      "Requirement already satisfied: scipy in /Library/Frameworks/Python.framework/Versions/3.7/lib/python3.7/site-packages (from pyafmrheo==0.0.1) (1.7.3)\n",
      "Requirement already satisfied: python-dateutil>=2.6.1 in /Users/javierlopez/Library/Python/3.7/lib/python/site-packages (from pandas->pyafmrheo==0.0.1) (2.8.1)\n",
      "Requirement already satisfied: pytz>=2017.2 in /Library/Frameworks/Python.framework/Versions/3.7/lib/python3.7/site-packages (from pandas->pyafmrheo==0.0.1) (2019.3)\n",
      "Requirement already satisfied: six>=1.5 in /Users/javierlopez/Library/Python/3.7/lib/python/site-packages (from python-dateutil>=2.6.1->pandas->pyafmrheo==0.0.1) (1.14.0)\n",
      "Building wheels for collected packages: pyafmrheo\n",
      "  Building wheel for pyafmrheo (setup.py) ... \u001b[?25ldone\n",
      "\u001b[?25h  Created wheel for pyafmrheo: filename=pyafmrheo-0.0.1-py3-none-any.whl size=33274 sha256=3754c6ee9a2c95e727b9b4b8868712d487fd1221d3d988b8fd2dd6a130353fdb\n",
      "  Stored in directory: /private/var/folders/4k/ps22fmxj3gx6vls78t2p63wh0000gn/T/pip-ephem-wheel-cache-21myl1jl/wheels/45/a3/5e/2d19803e3cbf5fe45f904090127b31ec30fc304c6b6e5e0f70\n",
      "Successfully built pyafmrheo\n",
      "Installing collected packages: pyafmrheo\n",
      "Successfully installed pyafmrheo-0.0.1\n",
      "Note: you may need to restart the kernel to use updated packages.\n"
     ]
    }
   ],
   "source": [
    "# Install library for AFM data Rheology Analysis\n",
    "%pip uninstall pyafmrheo --yes\n",
    "%pip install git+https://github.com/jlopezalo/pyafmrheo.git"
   ]
  },
  {
   "cell_type": "code",
   "execution_count": 3,
   "metadata": {},
   "outputs": [],
   "source": [
    "# Import libraries we will need\n",
    "import numpy as np\n",
    "import pandas as pd\n",
    "import matplotlib.pyplot as plt\n",
    "\n",
    "# Get file reader from library\n",
    "from pyafmreader import loadfile\n",
    "\n",
    "# Get data analysis tools\n",
    "from pyafmrheo.routines.HertzFit import doHertzFit"
   ]
  },
  {
   "cell_type": "code",
   "execution_count": 4,
   "metadata": {},
   "outputs": [],
   "source": [
    "# Define global variables\n",
    "file_path = '/Users/javierlopez/Documents/Datasets/05-11-2021/E/map-data-2021.11.05-15.41.45.699.jpk-force-map'\n",
    "# Shapes available: paraboloid, pyramid\n",
    "indenter_shape = \"pyramid\"\n",
    "# tip_parameter = 500 * 1e-9 # meters\n",
    "tip_parameter = 35 # degrees\n",
    "# Poisson ratio\n",
    "poisson_ratio = 0.5\n",
    "# Window to find cp\n",
    "windowforCP = 350e-9\n",
    "# If None it will use the deflection sensitivity from the file\n",
    "deflection_sensitivity = None # m/V\n",
    "# If None it will use the spring constant from the file\n",
    "spring_constant = None # N/m\n",
    "# General plotting params\n",
    "plt.rcParams[\"figure.figsize\"] = (10,5)"
   ]
  },
  {
   "cell_type": "code",
   "execution_count": 5,
   "metadata": {},
   "outputs": [],
   "source": [
    "file = loadfile(file_path)"
   ]
  },
  {
   "cell_type": "code",
   "execution_count": 6,
   "metadata": {},
   "outputs": [
    {
     "name": "stdout",
     "output_type": "stream",
     "text": [
      ".jpk-force-map\n"
     ]
    }
   ],
   "source": [
    "filemetadata = file.filemetadata\n",
    "print(filemetadata['file_type'])"
   ]
  },
  {
   "cell_type": "code",
   "execution_count": 7,
   "metadata": {},
   "outputs": [],
   "source": [
    "closed_loop = filemetadata['z_closed_loop']\n",
    "file_deflection_sensitivity = filemetadata['defl_sens_nmbyV'] #nm/V\n",
    "file_spring_constant = filemetadata['spring_const_Nbym'] #N/m\n",
    "height_channel = filemetadata['height_channel_key']\n",
    "\n",
    "if not deflection_sensitivity: deflection_sensitivity = file_deflection_sensitivity / 1e9 #m/V\n",
    "if not spring_constant: spring_constant = file_spring_constant"
   ]
  },
  {
   "cell_type": "code",
   "execution_count": 8,
   "metadata": {},
   "outputs": [],
   "source": [
    "param_dict = {\n",
    "    'def_sens': deflection_sensitivity,\n",
    "    'k': spring_constant,\n",
    "    'height_channel': height_channel,\n",
    "    'poc_win': windowforCP,\n",
    "    'curve_seg': 'extend',\n",
    "    'fit_range_type': 'indentation',\n",
    "    'min_ind': -np.inf,\n",
    "    'max_ind': np.inf,\n",
    "    'fit_line': False,\n",
    "    'd0': 0.0,\n",
    "    'f0': 0.0,\n",
    "    'auto_init_E0': True,\n",
    "    'correct_tilt': True,\n",
    "    'tilt_max_offset': 1e-6,\n",
    "    'tilt_min_offset': 10e-9,\n",
    "    'contact_model': indenter_shape,\n",
    "    'tip_param': tip_parameter\n",
    "}"
   ]
  },
  {
   "cell_type": "code",
   "execution_count": 9,
   "metadata": {},
   "outputs": [],
   "source": [
    "curve_idx = 0\n",
    "force_curve = file.getcurve(curve_idx)\n",
    "force_curve.preprocess_force_curve(param_dict['def_sens'], param_dict['height_channel'])\n",
    "if filemetadata['file_type'] in ('.jpk-force', '.jpk-force-map', '.jpk-qi-data'):\n",
    "    force_curve.shift_height()"
   ]
  },
  {
   "cell_type": "code",
   "execution_count": 10,
   "metadata": {},
   "outputs": [
    {
     "name": "stderr",
     "output_type": "stream",
     "text": [
      "/Library/Frameworks/Python.framework/Versions/3.7/lib/python3.7/site-packages/pyafmrheo/models/hertz.py:161: RuntimeWarning: divide by zero encountered in true_divide\n",
      "  a = (self.get_residuals(indentation, force, sample_height)**2/force)\n"
     ]
    }
   ],
   "source": [
    "hertz_result = doHertzFit(force_curve, param_dict)"
   ]
  },
  {
   "cell_type": "code",
   "execution_count": 11,
   "metadata": {},
   "outputs": [
    {
     "name": "stdout",
     "output_type": "stream",
     "text": [
      "\n",
      "        # Fit parameters\n",
      "        Indenter shape: pyramid\n",
      "\n",
      "        Tip paraneter: 35\n",
      "\n",
      "        BEC Model: None\n",
      "\n",
      "        Number of free parameters: 3\n",
      "\n",
      "        delta0: -2.92122260780748e-07\n",
      "\n",
      "        E0: 345.270063369498\n",
      "\n",
      "        f0: -4.143997372771431e-12\n",
      "\n",
      "        slope: None\n",
      "\n",
      "        # Fit metrics\n",
      "        MAE: -8.61250023318415e-19\n",
      "\n",
      "        MSE: 1.9267237439451726e-22\n",
      "\n",
      "        RMSE: 1.3880647477496043e-11\n",
      "\n",
      "        Rsq: 0.9911992087067769\n",
      "\n",
      "        Chisq: 2.0852635473822456e-08\n",
      "\n",
      "        RedChisq: 6.950878491274152e-09\n",
      "\n",
      "        \n"
     ]
    }
   ],
   "source": [
    "hertz_result.fit_report()"
   ]
  },
  {
   "cell_type": "code",
   "execution_count": null,
   "metadata": {},
   "outputs": [],
   "source": []
  }
 ],
 "metadata": {
  "kernelspec": {
   "display_name": "Python 3",
   "language": "python",
   "name": "python3"
  },
  "language_info": {
   "codemirror_mode": {
    "name": "ipython",
    "version": 3
   },
   "file_extension": ".py",
   "mimetype": "text/x-python",
   "name": "python",
   "nbconvert_exporter": "python",
   "pygments_lexer": "ipython3",
   "version": "3.7.6"
  }
 },
 "nbformat": 4,
 "nbformat_minor": 4
}
