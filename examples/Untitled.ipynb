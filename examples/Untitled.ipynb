{
 "cells": [
  {
   "cell_type": "code",
   "execution_count": 20,
   "id": "25e54181-179a-46c4-b7c4-af84a2de0089",
   "metadata": {},
   "outputs": [
    {
     "data": {
      "text/plain": [
       "0.23721978412999645"
      ]
     },
     "execution_count": 20,
     "metadata": {},
     "output_type": "execute_result"
    }
   ],
   "source": [
    "100 * 1e-6 * (1/421.55) * 1e3 * 1e3"
   ]
  },
  {
   "cell_type": "code",
   "execution_count": 21,
   "id": "ea08a0c9-f7db-4e33-81e0-bc05c794ee8e",
   "metadata": {},
   "outputs": [
    {
     "data": {
      "text/plain": [
       "0.004166666666666667"
      ]
     },
     "execution_count": 21,
     "metadata": {},
     "output_type": "execute_result"
    }
   ],
   "source": [
    "(10 * 0.1 * 1e-3) / (0.24)"
   ]
  },
  {
   "cell_type": "code",
   "execution_count": 18,
   "id": "cd3e0e7a-04d9-4097-a532-1eda547899ea",
   "metadata": {},
   "outputs": [
    {
     "data": {
      "text/plain": [
       "1e-06"
      ]
     },
     "execution_count": 18,
     "metadata": {},
     "output_type": "execute_result"
    }
   ],
   "source": [
    "1e"
   ]
  },
  {
   "cell_type": "markdown",
   "id": "5969da88-5e49-4741-b451-fb9f3b12a469",
   "metadata": {},
   "source": [
    "##### "
   ]
  }
 ],
 "metadata": {
  "kernelspec": {
   "display_name": "Python 3",
   "language": "python",
   "name": "python3"
  },
  "language_info": {
   "codemirror_mode": {
    "name": "ipython",
    "version": 3
   },
   "file_extension": ".py",
   "mimetype": "text/x-python",
   "name": "python",
   "nbconvert_exporter": "python",
   "pygments_lexer": "ipython3",
   "version": "3.8.8"
  }
 },
 "nbformat": 4,
 "nbformat_minor": 5
}
